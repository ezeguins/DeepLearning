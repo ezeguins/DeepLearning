{
 "cells": [
  {
   "cell_type": "markdown",
   "id": "f00cb7cb",
   "metadata": {},
   "source": [
    "##### Stochastic Gradient Descent para encontrar el máximo de una función\n",
    "\n",
    "a. Implementar en Python un algoritmo basado en Stochastic Gradient Descent\n",
    "para encontrar numéricamente el mínimo de 𝑦 = − ( 𝑥 − 2 )2 + 3 . ¿Cuál \n",
    "es el máximo valor que encontró el algoritmo y para qué valor de x? ¿En qué\n",
    "momento detuviste la búsqueda y por qué? ¿Cómo inicializamos los valores\n",
    "random del algoritmo y cómo afectan la convergencia? ¿Cuáles son los hiper\n",
    "parámetros del algoritmo?"
   ]
  },
  {
   "cell_type": "code",
   "execution_count": 2,
   "id": "bd5d63dd",
   "metadata": {},
   "outputs": [],
   "source": [
    "# Importamos las librerías\n",
    "import numpy as np\n",
    "import matplotlib.pyplot as plt"
   ]
  },
  {
   "cell_type": "code",
   "execution_count": 4,
   "id": "984c74b1",
   "metadata": {},
   "outputs": [
    {
     "data": {
      "text/plain": [
       "<matplotlib.collections.PathCollection at 0x2a6bf45b520>"
      ]
     },
     "execution_count": 4,
     "metadata": {},
     "output_type": "execute_result"
    },
    {
     "data": {
      "image/png": "[encoded data removed]",
      "text/plain": [
       "<Figure size 432x288 with 1 Axes>"
      ]
     },
     "metadata": {
      "needs_background": "light"
     },
     "output_type": "display_data"
    }
   ],
   "source": [
    "# Graficamos la función\n",
    "x_ = np.arange(-500,500)\n",
    "y_  = -(x_-2)**2 + 3\n",
    "plt.scatter(x_,y_)"
   ]
  },
  {
   "cell_type": "code",
   "execution_count": 5,
   "id": "ded45f51",
   "metadata": {},
   "outputs": [],
   "source": [
    "# Definimos los parametros\n",
    "lr = 0.01\n",
    "x_inicial = 0\n",
    "gradiente_minimo = 0.1\n",
    "ciclos= 20000\n"
   ]
  },
  {
   "cell_type": "code",
   "execution_count": 8,
   "id": "bdfe3f40",
   "metadata": {},
   "outputs": [
    {
     "name": "stdout",
     "output_type": "stream",
     "text": [
      "valor máximo de Y es: 2.99767237387228, para el valor de X: 2.048245477795543\n"
     ]
    }
   ],
   "source": [
    "# Como la función tiene dos mínimos en X = +- infinito, primero calculamos el máximo!\n",
    "x = x_inicial\n",
    "for i in range(ciclos):\n",
    "    y = -(x-2)**2 + 3\n",
    "    dxdy = -2*x+4\n",
    "    x = x + lr*dxdy\n",
    "    #print(x, y, dxdy)\n",
    "    if np.abs(dxdy) <= gradiente_minimo:\n",
    "        print('valor máximo de Y es: {}, para el valor de X: {}'.format(-(x-2)**2 + 3, x))\n",
    "        break\n",
    "    "
   ]
  },
  {
   "cell_type": "code",
   "execution_count": 11,
   "id": "b30c74e5",
   "metadata": {},
   "outputs": [
    {
     "name": "stdout",
     "output_type": "stream",
     "text": [
      "valor máximo de Y encontrado es: -243074884.53533992, para el valor de X: 15592.859101901342\n"
     ]
    }
   ],
   "source": [
    "# Ahora calculamos los mínimos:\n",
    "x_inicial = 100\n",
    "x = x_inicial\n",
    "gradiente_máximo = 30000\n",
    "ciclos = 500\n",
    "for i in range(ciclos):\n",
    "    y = -(x-2)**2 + 3\n",
    "    dxdy = -2*x+4\n",
    "    x = x - lr*dxdy\n",
    "    if abs(dxdy) >= gradiente_máximo:\n",
    "        print('valor máximo de Y encontrado es: {}, para el valor de X: {}'.format(-(x-2)**2 + 3, x))\n",
    "        break"
   ]
  },
  {
   "cell_type": "code",
   "execution_count": 12,
   "id": "64a211cd",
   "metadata": {},
   "outputs": [
    {
     "name": "stdout",
     "output_type": "stream",
     "text": [
      "valor máximo de Y encontrado es: -238020990.77075043, para el valor de X: -15425.92901755613\n"
     ]
    }
   ],
   "source": [
    "# Ahora probamos lo mismo pero inicializando con un x<2:\n",
    "x_inicial = 0\n",
    "x = x_inicial\n",
    "gradiente_máximo = 30000\n",
    "ciclos = 500\n",
    "for i in range(ciclos):\n",
    "    y = -(x-2)**2 + 3\n",
    "    dxdy = -2*x+4\n",
    "    x = x - lr*dxdy\n",
    "    if abs(dxdy) >= gradiente_máximo:\n",
    "        print('valor máximo de Y encontrado es: {}, para el valor de X: {}'.format(-(x-2)**2 + 3, x))\n",
    "        break"
   ]
  },
  {
   "cell_type": "code",
   "execution_count": null,
   "id": "96853dba",
   "metadata": {},
   "outputs": [],
   "source": [
    "# Observamos que en este segundo caso nos estamos yendo para los valores negativos de X (menos infinito si seguimos iterando)\n",
    "# Detuvimos la búsqueda en un valor considerablemente grande, pero podríamos haber seguido obteniendo valores cada vez mas bajos de \"y\"\n",
    "# Los hiperparámetros del algoritmo son: X inicial, cantidad de ciclos, gradiente máximo y learning rate (lr)"
   ]
  }
 ],
 "metadata": {
  "kernelspec": {
   "display_name": "vision1",
   "language": "python",
   "name": "vision1"
  },
  "language_info": {
   "codemirror_mode": {
    "name": "ipython",
    "version": 3
   },
   "file_extension": ".py",
   "mimetype": "text/x-python",
   "name": "python",
   "nbconvert_exporter": "python",
   "pygments_lexer": "ipython3",
   "version": "3.9.7"
  }
 },
 "nbformat": 4,
 "nbformat_minor": 5
}
