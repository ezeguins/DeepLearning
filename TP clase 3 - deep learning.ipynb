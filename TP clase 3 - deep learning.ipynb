{
  "nbformat": 4,
  "nbformat_minor": 0,
  "metadata": {
    "colab": {
      "name": "TP clase 3 - deep learning.ipynb",
      "provenance": [],
      "collapsed_sections": []
    },
    "kernelspec": {
      "name": "python3",
      "display_name": "Python 3"
    },
    "language_info": {
      "name": "python"
    }
  },
  "cells": [
    {
      "cell_type": "markdown",
      "source": [
        "### Mini-Batch Gradient Descent para entrenar un modelo cuadrático\n",
        "#### Implementar el ejercicio 2 de la Clase 2 utilizando PyTorch"
      ],
      "metadata": {
        "id": "ms9fBvbOdsAp"
      }
    },
    {
      "cell_type": "code",
      "source": [
        "# Importamos las librerías\n",
        "import numpy as np\n",
        "import matplotlib.pyplot as plt\n",
        "import torch\n",
        "import torch.optim as optim\n",
        "import torch.nn as nn\n",
        "import torch.nn.functional as F\n",
        "from matplotlib.colors import ListedColormap\n",
        "from torch.utils.data import Dataset, DataLoader"
      ],
      "metadata": {
        "id": "wV6mw2_MdxHl"
      },
      "execution_count": 14,
      "outputs": []
    },
    {
      "cell_type": "code",
      "source": [
        "import torchsummary\n",
        "from torch.utils.tensorboard import SummaryWriter\n",
        "writer = SummaryWriter()"
      ],
      "metadata": {
        "id": "zJH3KygvoK5V"
      },
      "execution_count": 15,
      "outputs": []
    },
    {
      "cell_type": "code",
      "source": [
        "#Definimos la clase para armar el dataset similar al del TP de la clase 2, según la consigna\n",
        "class Data(Dataset):\n",
        "    \n",
        "    def __init__(self, n=10000):\n",
        "        x = np.random.uniform(0,4,n)\n",
        "        y = -(x-2)**2 + 3 + .2*np.sin(16*x)\n",
        "        self.y = torch.from_numpy(y).type(torch.Tensor)\n",
        "        self.x = torch.from_numpy(x).type(torch.FloatTensor)\n",
        "        self.len = y.shape[0]\n",
        "    \n",
        "    # Getter\n",
        "    def __getitem__(self, index):    \n",
        "        return self.x[index], self.y[index]\n",
        "    \n",
        "    # Get Length\n",
        "    def __len__(self):\n",
        "        return self.len"
      ],
      "metadata": {
        "id": "v3NHyliTzCNv"
      },
      "execution_count": 16,
      "outputs": []
    },
    {
      "cell_type": "code",
      "source": [
        "# Definimos un modelo de dos capas ocultas y una salida contínua, con activación de tangente hiperbólica.\n",
        "class modelo(nn.Module):\n",
        "    def __init__(self):\n",
        "        super().__init__()  # <1>\n",
        "        \n",
        "        self.hidden_linear = nn.Linear(1, 20)\n",
        "        self.hidden_activation = nn.Tanh()\n",
        "        self.hidden2_linear = nn.Linear(20, 10)\n",
        "        self.hidden2_activation = nn.Tanh()\n",
        "        self.output_linear = nn.Linear(10, 1)\n",
        "        \n",
        "    def forward(self, input):\n",
        "        hidden_t = self.hidden_linear(input)\n",
        "        activated_t = self.hidden_activation(hidden_t)\n",
        "        hidden_t2 = self.hidden2_linear(activated_t)\n",
        "        activated_t2 = self.hidden2_activation(hidden_t2)\n",
        "        output_t = self.output_linear(activated_t2)\n",
        "        \n",
        "        return output_t\n",
        "    \n",
        "modeloTP3= modelo()\n",
        "torchsummary.summary(modeloTP3, input_size=(10000, 1))"
      ],
      "metadata": {
        "colab": {
          "base_uri": "https://localhost:8080/"
        },
        "id": "skp0bKekd3ZA",
        "outputId": "b4279de9-9727-4058-9f3c-cd7506d49707"
      },
      "execution_count": 17,
      "outputs": [
        {
          "output_type": "stream",
          "name": "stdout",
          "text": [
            "----------------------------------------------------------------\n",
            "        Layer (type)               Output Shape         Param #\n",
            "================================================================\n",
            "            Linear-1            [-1, 10000, 20]              40\n",
            "              Tanh-2            [-1, 10000, 20]               0\n",
            "            Linear-3            [-1, 10000, 10]             210\n",
            "              Tanh-4            [-1, 10000, 10]               0\n",
            "            Linear-5             [-1, 10000, 1]              11\n",
            "================================================================\n",
            "Total params: 261\n",
            "Trainable params: 261\n",
            "Non-trainable params: 0\n",
            "----------------------------------------------------------------\n",
            "Input size (MB): 0.04\n",
            "Forward/backward pass size (MB): 4.65\n",
            "Params size (MB): 0.00\n",
            "Estimated Total Size (MB): 4.69\n",
            "----------------------------------------------------------------\n"
          ]
        }
      ]
    },
    {
      "cell_type": "code",
      "source": [
        "# Definimos la función de entrenamiento\n",
        "def train(data_set,model,criterion, train_loader, optimizer, epochs=5,plot_number=10):\n",
        "    cost=[]\n",
        "    \n",
        "    for epoch in range(epochs):\n",
        "        total=0\n",
        "        \n",
        "        for x,y in train_loader:\n",
        "            \n",
        "            # batch_size = 100\n",
        "            # x=(100, 1), y=(100,1)\n",
        "\n",
        "            optimizer.zero_grad()\n",
        "            \n",
        "            yhat=model(x)\n",
        "            loss=criterion(yhat,y)\n",
        "            loss.backward()\n",
        "            optimizer.step()\n",
        "            total+=loss.item()\n",
        "            #print(loss)\n",
        "            \n",
        "        if epoch%plot_number==0:\n",
        "            print(total)\n",
        "        \n",
        "        cost.append(total)\n",
        "    plt.figure()\n",
        "    plt.plot(cost)\n",
        "    plt.xlabel('epoch')\n",
        "    plt.ylabel('cost')\n",
        "    plt.show()\n",
        "    return cost\n"
      ],
      "metadata": {
        "id": "VIUChhlHgpyZ"
      },
      "execution_count": 18,
      "outputs": []
    },
    {
      "cell_type": "code",
      "source": [
        "# Creamos nuestro dataset\n",
        "\n",
        "data_set = Data()\n",
        "\n",
        "data_set.y = data_set.y.view(-1,1)\n",
        "data_set.x = data_set.x.view(-1,1)\n",
        "plt.ylabel('Y')\n",
        "plt.xlabel('X')\n",
        "plt.title('Datos originales')\n",
        "plt.scatter(data_set.x,data_set.y)\n"
      ],
      "metadata": {
        "colab": {
          "base_uri": "https://localhost:8080/",
          "height": 312
        },
        "id": "z4ldCIi5jfC5",
        "outputId": "1f0e800e-eca2-4fd5-ed01-9db31f77ab7e"
      },
      "execution_count": 23,
      "outputs": [
        {
          "output_type": "execute_result",
          "data": {
            "text/plain": [
              "<matplotlib.collections.PathCollection at 0x7f0016791950>"
            ]
          },
          "metadata": {},
          "execution_count": 23
        },
        {
          "output_type": "display_data",
          "data": {
            "text/plain": [
              "<Figure size 432x288 with 1 Axes>"
            ],
            "image/png": "[encoded data removed]"
          },
          "metadata": {
            "needs_background": "light"
          }
        }
      ]
    },
    {
      "cell_type": "code",
      "source": [
        "# Definimos los hiperparámetros y entrenamos el modelo\n",
        "# Entrenamos primero con SGD (tamaño de batch = 1) para lograr copiar mejor la particularidad de la función de entrada\n",
        "learning_rate = 0.01\n",
        "optimizer = torch.optim.SGD(modeloTP3.parameters(), lr=learning_rate)\n",
        "train_loader = DataLoader(dataset=data_set, batch_size=1)\n",
        "criterion = nn.MSELoss()\n",
        "LOSS = train(data_set,modeloTP3,criterion, train_loader, optimizer, epochs=200,plot_number=10)"
      ],
      "metadata": {
        "id": "muTuiSKah0DP",
        "colab": {
          "base_uri": "https://localhost:8080/",
          "height": 626
        },
        "outputId": "c0f7dcfe-46a7-495c-a012-1c4bb0bd477d"
      },
      "execution_count": 20,
      "outputs": [
        {
          "output_type": "stream",
          "name": "stdout",
          "text": [
            "1130.2328389684217\n",
            "253.9029903496254\n",
            "231.5343795929317\n",
            "211.01513711036893\n",
            "184.7241340375337\n",
            "162.909578221865\n",
            "146.62829221743755\n",
            "130.91078125204498\n",
            "115.91659697815545\n",
            "103.65156055880773\n",
            "97.81605823613742\n",
            "94.90110602416419\n",
            "93.0621479110877\n",
            "91.58083450076553\n",
            "90.19775915964495\n",
            "88.68876222119833\n",
            "87.06417920547294\n",
            "85.25271184187281\n",
            "82.87223792835766\n",
            "78.3493876256783\n"
          ]
        },
        {
          "output_type": "display_data",
          "data": {
            "text/plain": [
              "<Figure size 432x288 with 1 Axes>"
            ],
            "image/png": "[encoded data removed]"
          },
          "metadata": {
            "needs_background": "light"
          }
        }
      ]
    },
    {
      "cell_type": "code",
      "source": [
        "# Graficamos la predicción del modelo respecto a nuestra entrada\n",
        "yhat = modeloTP3(data_set.x)\n",
        "plt.scatter(data_set.x,yhat.detach().numpy())"
      ],
      "metadata": {
        "id": "IArMo07o0hfg",
        "colab": {
          "base_uri": "https://localhost:8080/",
          "height": 282
        },
        "outputId": "0a3d2a23-41f3-4df4-c460-6f4439af700c"
      },
      "execution_count": 21,
      "outputs": [
        {
          "output_type": "execute_result",
          "data": {
            "text/plain": [
              "<matplotlib.collections.PathCollection at 0x7f0013f8e8d0>"
            ]
          },
          "metadata": {},
          "execution_count": 21
        },
        {
          "output_type": "display_data",
          "data": {
            "text/plain": [
              "<Figure size 432x288 with 1 Axes>"
            ],
            "image/png": "[encoded data removed]"
          },
          "metadata": {
            "needs_background": "light"
          }
        }
      ]
    },
    {
      "cell_type": "code",
      "source": [
        "# Volvemos a definir un modelo, ahora para entrenar con un tamaño de batch de 50\n",
        "modeloTP3_minibatch= modelo()\n",
        "torchsummary.summary(modeloTP3_minibatch, input_size=(10000, 1))"
      ],
      "metadata": {
        "id": "mAg6bdKNAZR0",
        "colab": {
          "base_uri": "https://localhost:8080/"
        },
        "outputId": "43249b7e-251f-46e2-f51e-58d4a00df099"
      },
      "execution_count": 24,
      "outputs": [
        {
          "output_type": "stream",
          "name": "stdout",
          "text": [
            "----------------------------------------------------------------\n",
            "        Layer (type)               Output Shape         Param #\n",
            "================================================================\n",
            "            Linear-1            [-1, 10000, 20]              40\n",
            "              Tanh-2            [-1, 10000, 20]               0\n",
            "            Linear-3            [-1, 10000, 10]             210\n",
            "              Tanh-4            [-1, 10000, 10]               0\n",
            "            Linear-5             [-1, 10000, 1]              11\n",
            "================================================================\n",
            "Total params: 261\n",
            "Trainable params: 261\n",
            "Non-trainable params: 0\n",
            "----------------------------------------------------------------\n",
            "Input size (MB): 0.04\n",
            "Forward/backward pass size (MB): 4.65\n",
            "Params size (MB): 0.00\n",
            "Estimated Total Size (MB): 4.69\n",
            "----------------------------------------------------------------\n"
          ]
        }
      ]
    },
    {
      "cell_type": "code",
      "source": [
        "# Definimos los hiperparámetros y entrenamos el modelo\n",
        "# Entrenamos primero con SGD (tamaño de batch = 50) para lograr copiar mejor la particularidad de la función de entrada\n",
        "learning_rate = 0.01\n",
        "optimizer = torch.optim.SGD(modeloTP3_minibatch.parameters(), lr=learning_rate)\n",
        "train_loader = DataLoader(dataset=data_set, batch_size=50)\n",
        "criterion = nn.MSELoss()\n",
        "LOSS = train(data_set,modeloTP3_minibatch,criterion, train_loader, optimizer, epochs=200,plot_number=10)"
      ],
      "metadata": {
        "colab": {
          "base_uri": "https://localhost:8080/",
          "height": 626
        },
        "id": "DHlVJP-H4hpQ",
        "outputId": "3921c3d4-fb9a-4b93-f8c1-a4050d848dde"
      },
      "execution_count": 25,
      "outputs": [
        {
          "output_type": "stream",
          "name": "stdout",
          "text": [
            "237.64114892482758\n",
            "6.098980143666267\n",
            "4.506154403090477\n",
            "4.306702738627791\n",
            "4.220610653050244\n",
            "4.169688576832414\n",
            "4.135873642750084\n",
            "4.111507723107934\n",
            "4.09285191912204\n",
            "4.077872412279248\n",
            "4.065380802378058\n",
            "4.054649828001857\n",
            "4.0452121663838625\n",
            "4.036761070601642\n",
            "4.0290882140398026\n",
            "4.0220478205010295\n",
            "4.015532937832177\n",
            "4.009464434348047\n",
            "4.0037842486053705\n",
            "3.998441924341023\n"
          ]
        },
        {
          "output_type": "display_data",
          "data": {
            "text/plain": [
              "<Figure size 432x288 with 1 Axes>"
            ],
            "image/png": "[encoded data removed]"
          },
          "metadata": {
            "needs_background": "light"
          }
        }
      ]
    },
    {
      "cell_type": "code",
      "source": [
        "# Graficamos la predicción del modelo respecto a nuestra entrada\n",
        "yhat_minibatch = modeloTP3_minibatch(data_set.x)\n",
        "plt.scatter(data_set.x,yhat_minibatch.detach().numpy())"
      ],
      "metadata": {
        "colab": {
          "base_uri": "https://localhost:8080/",
          "height": 282
        },
        "id": "SzCDzZnh4sOV",
        "outputId": "c39813d6-0898-438a-80fa-3e53104ff799"
      },
      "execution_count": 26,
      "outputs": [
        {
          "output_type": "execute_result",
          "data": {
            "text/plain": [
              "<matplotlib.collections.PathCollection at 0x7f0013d4dd10>"
            ]
          },
          "metadata": {},
          "execution_count": 26
        },
        {
          "output_type": "display_data",
          "data": {
            "text/plain": [
              "<Figure size 432x288 with 1 Axes>"
            ],
            "image/png": "[encoded data removed]"
          },
          "metadata": {
            "needs_background": "light"
          }
        }
      ]
    },
    {
      "cell_type": "code",
      "source": [
        "# Observamos que con un tamaño de batch mayor, el modelo no se \"sobreentrena\", copiando la forma global de la función"
      ],
      "metadata": {
        "id": "15W4cojr45oE"
      },
      "execution_count": null,
      "outputs": []
    }
  ]
}