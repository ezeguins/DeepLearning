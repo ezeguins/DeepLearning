{
  "nbformat": 4,
  "nbformat_minor": 0,
  "metadata": {
    "colab": {
      "name": "TP en clases 7 y 8 - Deep Learning.ipynb",
      "provenance": [],
      "collapsed_sections": []
    },
    "kernelspec": {
      "name": "python3",
      "display_name": "Python 3"
    },
    "language_info": {
      "name": "python"
    }
  },
  "cells": [
    {
      "cell_type": "code",
      "execution_count": 8,
      "metadata": {
        "id": "5RYgrZaSpGoP"
      },
      "outputs": [],
      "source": [
        "import pandas as pd\n",
        "import numpy as np\n",
        "import torch\n",
        "import matplotlib.pyplot as plt\n",
        "from scipy import stats\n",
        "from sklearn import preprocessing\n",
        "from sklearn.metrics import auc\n",
        "from sklearn import metrics"
      ]
    },
    {
      "cell_type": "code",
      "source": [
        "# Cargamos el dataset\n",
        "dataset = pd.read_csv('/content/class_7_wine_dataset_v2 (3).csv')"
      ],
      "metadata": {
        "id": "khhc-Sm_pRjw"
      },
      "execution_count": 3,
      "outputs": []
    },
    {
      "cell_type": "code",
      "source": [
        "# Obtenemos una descripción rápida del dataset:\n",
        "dataset.info()\n"
      ],
      "metadata": {
        "colab": {
          "base_uri": "https://localhost:8080/"
        },
        "id": "zt52sNKupWSN",
        "outputId": "8fdd3b96-121f-4e4b-9c7c-3c07f2af189d"
      },
      "execution_count": 4,
      "outputs": [
        {
          "output_type": "stream",
          "name": "stdout",
          "text": [
            "<class 'pandas.core.frame.DataFrame'>\n",
            "RangeIndex: 6497 entries, 0 to 6496\n",
            "Data columns (total 15 columns):\n",
            " #   Column                Non-Null Count  Dtype  \n",
            "---  ------                --------------  -----  \n",
            " 0   Unnamed: 0            6497 non-null   int64  \n",
            " 1   type                  6497 non-null   object \n",
            " 2   fixed acidity         6487 non-null   float64\n",
            " 3   volatile acidity      6489 non-null   float64\n",
            " 4   citric acid           6494 non-null   float64\n",
            " 5   residual sugar        6495 non-null   float64\n",
            " 6   chlorides             6495 non-null   float64\n",
            " 7   free sulfur dioxide   6497 non-null   float64\n",
            " 8   total sulfur dioxide  6497 non-null   float64\n",
            " 9   density               6497 non-null   float64\n",
            " 10  pH                    6488 non-null   float64\n",
            " 11  sulphates             6493 non-null   float64\n",
            " 12  alcohol               6497 non-null   float64\n",
            " 13  quality               6497 non-null   int64  \n",
            " 14  vendor_id             6497 non-null   int64  \n",
            "dtypes: float64(11), int64(3), object(1)\n",
            "memory usage: 761.5+ KB\n"
          ]
        }
      ]
    },
    {
      "cell_type": "code",
      "source": [
        "# Muestra valores\n",
        "print(dataset.head())\n",
        "print(len(dataset))"
      ],
      "metadata": {
        "colab": {
          "base_uri": "https://localhost:8080/"
        },
        "id": "7WjmHYTfpdVt",
        "outputId": "b1ca736d-ba88-4a58-bc43-e5cc5ccba6ec"
      },
      "execution_count": 7,
      "outputs": [
        {
          "output_type": "stream",
          "name": "stdout",
          "text": [
            "   Unnamed: 0   type  fixed acidity  volatile acidity  citric acid  \\\n",
            "0           0  white            7.0              0.27         0.36   \n",
            "1           1  white            6.3              0.30         0.34   \n",
            "2           2  white            8.1              0.28         0.40   \n",
            "3           3  white            7.2              0.23         0.32   \n",
            "4           4  white            7.2              0.23         0.32   \n",
            "\n",
            "   residual sugar  chlorides  free sulfur dioxide  total sulfur dioxide  \\\n",
            "0            20.7      0.045                 45.0                 170.0   \n",
            "1             1.6      0.049                 14.0                 132.0   \n",
            "2             6.9      0.050                 30.0                  97.0   \n",
            "3             8.5      0.058                 47.0                 186.0   \n",
            "4             8.5      0.058                 47.0                 186.0   \n",
            "\n",
            "   density    pH  sulphates  alcohol  quality  vendor_id  \n",
            "0   1.0010  3.00       0.45      8.8        6        369  \n",
            "1   0.9940  3.30       0.49      9.5        6        361  \n",
            "2   0.9951  3.26       0.44     10.1        6        354  \n",
            "3   0.9956  3.19       0.40      9.9        6        325  \n",
            "4   0.9956  3.19       0.40      9.9        6        375  \n",
            "6497\n"
          ]
        }
      ]
    },
    {
      "cell_type": "code",
      "source": [
        "quality = dataset.quality.to_numpy()"
      ],
      "metadata": {
        "id": "lTKbkPqtqGf4"
      },
      "execution_count": 9,
      "outputs": []
    },
    {
      "cell_type": "code",
      "source": [
        "fig, ax1 = plt.subplots(1,1)\n",
        "ax1.hist(quality)"
      ],
      "metadata": {
        "colab": {
          "base_uri": "https://localhost:8080/",
          "height": 339
        },
        "id": "19Jgp4SSqzLv",
        "outputId": "54fe42b4-91b8-41bb-de99-653a08c69745"
      },
      "execution_count": 12,
      "outputs": [
        {
          "output_type": "execute_result",
          "data": {
            "text/plain": [
              "(array([  30.,  216.,    0., 2138.,    0., 2836., 1079.,    0.,  193.,\n",
              "           5.]),\n",
              " array([3. , 3.6, 4.2, 4.8, 5.4, 6. , 6.6, 7.2, 7.8, 8.4, 9. ]),\n",
              " <a list of 10 Patch objects>)"
            ]
          },
          "metadata": {},
          "execution_count": 12
        },
        {
          "output_type": "display_data",
          "data": {
            "text/plain": [
              "<Figure size 432x288 with 1 Axes>"
            ],
            "image/png": "[encoded data removed]"
          },
          "metadata": {
            "needs_background": "light"
          }
        }
      ]
    },
    {
      "cell_type": "code",
      "source": [
        "print(np.unique(quality))"
      ],
      "metadata": {
        "colab": {
          "base_uri": "https://localhost:8080/"
        },
        "id": "zAse-Ncmq4qt",
        "outputId": "9ba76cdf-4777-43e5-fd79-ee9213e5374a"
      },
      "execution_count": 13,
      "outputs": [
        {
          "output_type": "stream",
          "name": "stdout",
          "text": [
            "[3 4 5 6 7 8 9]\n"
          ]
        }
      ]
    },
    {
      "cell_type": "code",
      "source": [
        "# Convertimos el problema de clasificación en binario, ya que tiene clases muy desbalanceadas\n",
        "\n",
        "dataset['quality_target'] = dataset.quality.apply(lambda label: 0 if label<=6 else 1)\n",
        "print(len(dataset[dataset['quality_target'] == 0]))\n",
        "print(len(dataset[dataset['quality_target'] == 1]))"
      ],
      "metadata": {
        "colab": {
          "base_uri": "https://localhost:8080/"
        },
        "id": "99OW7s1FrGDu",
        "outputId": "ea48d3e2-eab2-4582-c063-251c6832ca3b"
      },
      "execution_count": 14,
      "outputs": [
        {
          "output_type": "stream",
          "name": "stdout",
          "text": [
            "5220\n",
            "1277\n"
          ]
        }
      ]
    },
    {
      "cell_type": "markdown",
      "source": [
        "## LIMPIAMOS EL DATASET"
      ],
      "metadata": {
        "id": "0HkSpeGXr_Vk"
      }
    },
    {
      "cell_type": "code",
      "source": [
        "nans = dataset[dataset.isna().sum(axis = 1) >= 1]\n",
        "print(nans.shape)"
      ],
      "metadata": {
        "colab": {
          "base_uri": "https://localhost:8080/"
        },
        "id": "LWJCCFpir12N",
        "outputId": "b016a4d5-e16d-4650-da60-47e765bd0db0"
      },
      "execution_count": 17,
      "outputs": [
        {
          "output_type": "stream",
          "name": "stdout",
          "text": [
            "(34, 16)\n"
          ]
        }
      ]
    },
    {
      "cell_type": "code",
      "source": [
        "# Directamente borramos las filas que tienen datos nulos\n",
        "ds = dataset[dataset.isna().sum(axis = 1) == 0]\n",
        "print(ds.shape)"
      ],
      "metadata": {
        "colab": {
          "base_uri": "https://localhost:8080/"
        },
        "id": "nU3YFl1IshC4",
        "outputId": "5ef03d08-a8b6-4319-8617-c04033c6d15c"
      },
      "execution_count": 20,
      "outputs": [
        {
          "output_type": "stream",
          "name": "stdout",
          "text": [
            "(6463, 16)\n"
          ]
        }
      ]
    },
    {
      "cell_type": "markdown",
      "source": [
        "### INGENIERÍA DE FEATURES"
      ],
      "metadata": {
        "id": "xUtfw_fWtFyM"
      }
    },
    {
      "cell_type": "code",
      "source": [
        "ds.info()"
      ],
      "metadata": {
        "colab": {
          "base_uri": "https://localhost:8080/"
        },
        "id": "rHrqL3NxszfJ",
        "outputId": "0dca2214-a5a6-4674-fe52-d3a1771b8862"
      },
      "execution_count": 21,
      "outputs": [
        {
          "output_type": "stream",
          "name": "stdout",
          "text": [
            "<class 'pandas.core.frame.DataFrame'>\n",
            "Int64Index: 6463 entries, 0 to 6496\n",
            "Data columns (total 16 columns):\n",
            " #   Column                Non-Null Count  Dtype  \n",
            "---  ------                --------------  -----  \n",
            " 0   Unnamed: 0            6463 non-null   int64  \n",
            " 1   type                  6463 non-null   object \n",
            " 2   fixed acidity         6463 non-null   float64\n",
            " 3   volatile acidity      6463 non-null   float64\n",
            " 4   citric acid           6463 non-null   float64\n",
            " 5   residual sugar        6463 non-null   float64\n",
            " 6   chlorides             6463 non-null   float64\n",
            " 7   free sulfur dioxide   6463 non-null   float64\n",
            " 8   total sulfur dioxide  6463 non-null   float64\n",
            " 9   density               6463 non-null   float64\n",
            " 10  pH                    6463 non-null   float64\n",
            " 11  sulphates             6463 non-null   float64\n",
            " 12  alcohol               6463 non-null   float64\n",
            " 13  quality               6463 non-null   int64  \n",
            " 14  vendor_id             6463 non-null   int64  \n",
            " 15  quality_target        6463 non-null   int64  \n",
            "dtypes: float64(11), int64(4), object(1)\n",
            "memory usage: 858.4+ KB\n"
          ]
        }
      ]
    },
    {
      "cell_type": "code",
      "source": [
        "# Analisis de la variable TYPE\n",
        "print(ds['type'].unique())\n",
        "type_dummies = pd.get_dummies(ds['type'], prefix= 'type')\n",
        "type_dummies.info()\n",
        "# Concatenamos al dataset original\n",
        "ds = pd.concat([ds, type_dummies], axis = 1)\n",
        "ds.info()"
      ],
      "metadata": {
        "colab": {
          "base_uri": "https://localhost:8080/"
        },
        "id": "0vW9w6kit0id",
        "outputId": "3dcd4c28-73a7-4281-f79e-281261b00a19"
      },
      "execution_count": 25,
      "outputs": [
        {
          "output_type": "stream",
          "name": "stdout",
          "text": [
            "['white' 'red']\n",
            "<class 'pandas.core.frame.DataFrame'>\n",
            "Int64Index: 6463 entries, 0 to 6496\n",
            "Data columns (total 2 columns):\n",
            " #   Column      Non-Null Count  Dtype\n",
            "---  ------      --------------  -----\n",
            " 0   type_red    6463 non-null   uint8\n",
            " 1   type_white  6463 non-null   uint8\n",
            "dtypes: uint8(2)\n",
            "memory usage: 63.1 KB\n",
            "<class 'pandas.core.frame.DataFrame'>\n",
            "Int64Index: 6463 entries, 0 to 6496\n",
            "Data columns (total 18 columns):\n",
            " #   Column                Non-Null Count  Dtype  \n",
            "---  ------                --------------  -----  \n",
            " 0   Unnamed: 0            6463 non-null   int64  \n",
            " 1   type                  6463 non-null   object \n",
            " 2   fixed acidity         6463 non-null   float64\n",
            " 3   volatile acidity      6463 non-null   float64\n",
            " 4   citric acid           6463 non-null   float64\n",
            " 5   residual sugar        6463 non-null   float64\n",
            " 6   chlorides             6463 non-null   float64\n",
            " 7   free sulfur dioxide   6463 non-null   float64\n",
            " 8   total sulfur dioxide  6463 non-null   float64\n",
            " 9   density               6463 non-null   float64\n",
            " 10  pH                    6463 non-null   float64\n",
            " 11  sulphates             6463 non-null   float64\n",
            " 12  alcohol               6463 non-null   float64\n",
            " 13  quality               6463 non-null   int64  \n",
            " 14  vendor_id             6463 non-null   int64  \n",
            " 15  quality_target        6463 non-null   int64  \n",
            " 16  type_red              6463 non-null   uint8  \n",
            " 17  type_white            6463 non-null   uint8  \n",
            "dtypes: float64(11), int64(4), object(1), uint8(2)\n",
            "memory usage: 871.0+ KB\n"
          ]
        }
      ]
    },
    {
      "cell_type": "code",
      "source": [
        "# Analizamos la variable  VENDOR\n",
        "print(len(ds['vendor_id'].unique()))"
      ],
      "metadata": {
        "colab": {
          "base_uri": "https://localhost:8080/"
        },
        "id": "jEVvfAJvt82k",
        "outputId": "0de63912-60b8-4255-fb8c-6a2290c15e46"
      },
      "execution_count": 27,
      "outputs": [
        {
          "output_type": "stream",
          "name": "stdout",
          "text": [
            "500\n"
          ]
        }
      ]
    },
    {
      "cell_type": "code",
      "source": [
        "vendor_id = dataset.vendor_id.to_numpy()\n",
        "fig, ax1 = plt.subplots(1,1)\n",
        "ax1.hist(vendor_id,bins = 10)"
      ],
      "metadata": {
        "colab": {
          "base_uri": "https://localhost:8080/",
          "height": 357
        },
        "id": "5e9lSH8SwS0m",
        "outputId": "6ed8185d-f2d7-4a24-c204-37fd0d5f22fd"
      },
      "execution_count": 31,
      "outputs": [
        {
          "output_type": "execute_result",
          "data": {
            "text/plain": [
              "(array([  19.,   93.,  334., 1466., 1795., 1699.,  743.,  257.,   88.,\n",
              "           3.]),\n",
              " array([  1. ,  70.2, 139.4, 208.6, 277.8, 347. , 416.2, 485.4, 554.6,\n",
              "        623.8, 693. ]),\n",
              " <a list of 10 Patch objects>)"
            ]
          },
          "metadata": {},
          "execution_count": 31
        },
        {
          "output_type": "display_data",
          "data": {
            "text/plain": [
              "<Figure size 432x288 with 1 Axes>"
            ],
            "image/png": "[encoded data removed]"
          },
          "metadata": {
            "needs_background": "light"
          }
        }
      ]
    },
    {
      "cell_type": "code",
      "source": [
        "# Analizamos las variables reales\n",
        "corr = ds.loc[:, (ds.columns != \"vendor_id\") & (ds.columns != \"type\") & (ds.columns != \"quality_label\")].corr()\n",
        "fig, ax1 = plt.subplots(1, figsize=(14,10))\n",
        "import seaborn as sns\n",
        "sns.heatmap(corr)"
      ],
      "metadata": {
        "colab": {
          "base_uri": "https://localhost:8080/",
          "height": 697
        },
        "id": "ZjXc-a6Nwo9Q",
        "outputId": "9744d470-b8f7-4d2d-b077-f9476c42e3d8"
      },
      "execution_count": 36,
      "outputs": [
        {
          "output_type": "execute_result",
          "data": {
            "text/plain": [
              "<matplotlib.axes._subplots.AxesSubplot at 0x7f05ff456e10>"
            ]
          },
          "metadata": {},
          "execution_count": 36
        },
        {
          "output_type": "display_data",
          "data": {
            "text/plain": [
              "<Figure size 1008x720 with 2 Axes>"
            ],
            "image/png": "[encoded data removed]"
          },
          "metadata": {
            "needs_background": "light"
          }
        }
      ]
    },
    {
      "cell_type": "code",
      "source": [
        "fig, ax1 = plt.subplots(1, figsize=(14, 10))\n",
        "ax1.boxplot([ds.loc[ds[\"quality_target\"] == 0, \"alcohol\"], \n",
        "            ds.loc[ds[\"quality_target\"] == 1, \"alcohol\"]])"
      ],
      "metadata": {
        "colab": {
          "base_uri": "https://localhost:8080/",
          "height": 926
        },
        "id": "4XJNBMguyLRA",
        "outputId": "22fa040d-bea8-4d4b-c3fb-84d3c54d9d46"
      },
      "execution_count": 43,
      "outputs": [
        {
          "output_type": "stream",
          "name": "stderr",
          "text": [
            "/usr/local/lib/python3.7/dist-packages/matplotlib/cbook/__init__.py:1376: VisibleDeprecationWarning: Creating an ndarray from ragged nested sequences (which is a list-or-tuple of lists-or-tuples-or ndarrays with different lengths or shapes) is deprecated. If you meant to do this, you must specify 'dtype=object' when creating the ndarray.\n",
            "  X = np.atleast_1d(X.T if isinstance(X, np.ndarray) else np.asarray(X))\n"
          ]
        },
        {
          "output_type": "execute_result",
          "data": {
            "text/plain": [
              "{'boxes': [<matplotlib.lines.Line2D at 0x7f05fcd42290>,\n",
              "  <matplotlib.lines.Line2D at 0x7f05fcd4ea10>],\n",
              " 'caps': [<matplotlib.lines.Line2D at 0x7f05fcd47310>,\n",
              "  <matplotlib.lines.Line2D at 0x7f05fcd47850>,\n",
              "  <matplotlib.lines.Line2D at 0x7f05fcd57990>,\n",
              "  <matplotlib.lines.Line2D at 0x7f05fcd57e90>],\n",
              " 'fliers': [<matplotlib.lines.Line2D at 0x7f05fcd4e350>,\n",
              "  <matplotlib.lines.Line2D at 0x7f05fcd608d0>],\n",
              " 'means': [],\n",
              " 'medians': [<matplotlib.lines.Line2D at 0x7f05fcd47dd0>,\n",
              "  <matplotlib.lines.Line2D at 0x7f05fcd603d0>],\n",
              " 'whiskers': [<matplotlib.lines.Line2D at 0x7f05fcd42850>,\n",
              "  <matplotlib.lines.Line2D at 0x7f05fcd42d90>,\n",
              "  <matplotlib.lines.Line2D at 0x7f05fcd4ef50>,\n",
              "  <matplotlib.lines.Line2D at 0x7f05fcd57490>]}"
            ]
          },
          "metadata": {},
          "execution_count": 43
        },
        {
          "output_type": "display_data",
          "data": {
            "text/plain": [
              "<Figure size 1008x720 with 1 Axes>"
            ],
            "image/png": "[encoded data removed]"
          },
          "metadata": {
            "needs_background": "light"
          }
        }
      ]
    },
    {
      "cell_type": "code",
      "source": [
        "vendor_id = ds['vendor_id']\n",
        "quality_label = ds['quality_target']\n",
        "quality_label = quality_label.to_numpy()\n",
        "final_ds = ds.drop(['Unnamed: 0', 'quality_target', 'quality', 'vendor_id', 'type'], axis =1, inplace = False)\n"
      ],
      "metadata": {
        "id": "qWRGmnmJzvrR"
      },
      "execution_count": 70,
      "outputs": []
    },
    {
      "cell_type": "markdown",
      "source": [
        "### NORMALIZAMOS"
      ],
      "metadata": {
        "id": "w8jC6ByG1WDI"
      }
    },
    {
      "cell_type": "code",
      "source": [
        "nds = (final_ds - np.min(final_ds, axis = 0)) / (np.max(final_ds, axis = 0) - np.min(final_ds, axis = 0))"
      ],
      "metadata": {
        "id": "uL8J8bfd35UU"
      },
      "execution_count": 71,
      "outputs": []
    },
    {
      "cell_type": "code",
      "source": [
        "print(np.max(nds,axis = 0))\n",
        "print(np.min(nds,axis = 0))\n"
      ],
      "metadata": {
        "colab": {
          "base_uri": "https://localhost:8080/"
        },
        "id": "QSzY2HJv4JZf",
        "outputId": "3b4619ba-4c1a-404d-9eb8-f4ac6157e8b1"
      },
      "execution_count": 72,
      "outputs": [
        {
          "output_type": "stream",
          "name": "stdout",
          "text": [
            "fixed acidity           1.0\n",
            "volatile acidity        1.0\n",
            "citric acid             1.0\n",
            "residual sugar          1.0\n",
            "chlorides               1.0\n",
            "free sulfur dioxide     1.0\n",
            "total sulfur dioxide    1.0\n",
            "density                 1.0\n",
            "pH                      1.0\n",
            "sulphates               1.0\n",
            "alcohol                 1.0\n",
            "type_red                1.0\n",
            "type_white              1.0\n",
            "dtype: float64\n",
            "fixed acidity           0.0\n",
            "volatile acidity        0.0\n",
            "citric acid             0.0\n",
            "residual sugar          0.0\n",
            "chlorides               0.0\n",
            "free sulfur dioxide     0.0\n",
            "total sulfur dioxide    0.0\n",
            "density                 0.0\n",
            "pH                      0.0\n",
            "sulphates               0.0\n",
            "alcohol                 0.0\n",
            "type_red                0.0\n",
            "type_white              0.0\n",
            "dtype: float64\n"
          ]
        }
      ]
    },
    {
      "cell_type": "code",
      "source": [
        "nds.head()"
      ],
      "metadata": {
        "colab": {
          "base_uri": "https://localhost:8080/",
          "height": 285
        },
        "id": "PVdIPQvO1VGM",
        "outputId": "faff1971-18e2-456c-c1a1-47942f50eb45"
      },
      "execution_count": 54,
      "outputs": [
        {
          "output_type": "execute_result",
          "data": {
            "text/plain": [
              "   fixed acidity  volatile acidity  citric acid  residual sugar  chlorides  \\\n",
              "0       0.264463          0.126667     0.216867        0.308282   0.059801   \n",
              "1       0.206612          0.146667     0.204819        0.015337   0.066445   \n",
              "2       0.355372          0.133333     0.240964        0.096626   0.068106   \n",
              "3       0.280992          0.100000     0.192771        0.121166   0.081395   \n",
              "4       0.280992          0.100000     0.192771        0.121166   0.081395   \n",
              "\n",
              "   free sulfur dioxide  total sulfur dioxide   density        pH  sulphates  \\\n",
              "0             0.152778              0.377880  0.267785  0.217054   0.129213   \n",
              "1             0.045139              0.290323  0.132832  0.449612   0.151685   \n",
              "2             0.100694              0.209677  0.154039  0.418605   0.123596   \n",
              "3             0.159722              0.414747  0.163678  0.364341   0.101124   \n",
              "4             0.159722              0.414747  0.163678  0.364341   0.101124   \n",
              "\n",
              "    alcohol  type_red  type_white  \n",
              "0  0.115942       0.0         1.0  \n",
              "1  0.217391       0.0         1.0  \n",
              "2  0.304348       0.0         1.0  \n",
              "3  0.275362       0.0         1.0  \n",
              "4  0.275362       0.0         1.0  "
            ],
            "text/html": [
              "\n",
              "  <div id=\"df-6b894a56-7524-4577-9fbf-8566163e6135\">\n",
              "    <div class=\"colab-df-container\">\n",
              "      <div>\n",
              "<style scoped>\n",
              "    .dataframe tbody tr th:only-of-type {\n",
              "        vertical-align: middle;\n",
              "    }\n",
              "\n",
              "    .dataframe tbody tr th {\n",
              "        vertical-align: top;\n",
              "    }\n",
              "\n",
              "    .dataframe thead th {\n",
              "        text-align: right;\n",
              "    }\n",
              "</style>\n",
              "<table border=\"1\" class=\"dataframe\">\n",
              "  <thead>\n",
              "    <tr style=\"text-align: right;\">\n",
              "      <th></th>\n",
              "      <th>fixed acidity</th>\n",
              "      <th>volatile acidity</th>\n",
              "      <th>citric acid</th>\n",
              "      <th>residual sugar</th>\n",
              "      <th>chlorides</th>\n",
              "      <th>free sulfur dioxide</th>\n",
              "      <th>total sulfur dioxide</th>\n",
              "      <th>density</th>\n",
              "      <th>pH</th>\n",
              "      <th>sulphates</th>\n",
              "      <th>alcohol</th>\n",
              "      <th>type_red</th>\n",
              "      <th>type_white</th>\n",
              "    </tr>\n",
              "  </thead>\n",
              "  <tbody>\n",
              "    <tr>\n",
              "      <th>0</th>\n",
              "      <td>0.264463</td>\n",
              "      <td>0.126667</td>\n",
              "      <td>0.216867</td>\n",
              "      <td>0.308282</td>\n",
              "      <td>0.059801</td>\n",
              "      <td>0.152778</td>\n",
              "      <td>0.377880</td>\n",
              "      <td>0.267785</td>\n",
              "      <td>0.217054</td>\n",
              "      <td>0.129213</td>\n",
              "      <td>0.115942</td>\n",
              "      <td>0.0</td>\n",
              "      <td>1.0</td>\n",
              "    </tr>\n",
              "    <tr>\n",
              "      <th>1</th>\n",
              "      <td>0.206612</td>\n",
              "      <td>0.146667</td>\n",
              "      <td>0.204819</td>\n",
              "      <td>0.015337</td>\n",
              "      <td>0.066445</td>\n",
              "      <td>0.045139</td>\n",
              "      <td>0.290323</td>\n",
              "      <td>0.132832</td>\n",
              "      <td>0.449612</td>\n",
              "      <td>0.151685</td>\n",
              "      <td>0.217391</td>\n",
              "      <td>0.0</td>\n",
              "      <td>1.0</td>\n",
              "    </tr>\n",
              "    <tr>\n",
              "      <th>2</th>\n",
              "      <td>0.355372</td>\n",
              "      <td>0.133333</td>\n",
              "      <td>0.240964</td>\n",
              "      <td>0.096626</td>\n",
              "      <td>0.068106</td>\n",
              "      <td>0.100694</td>\n",
              "      <td>0.209677</td>\n",
              "      <td>0.154039</td>\n",
              "      <td>0.418605</td>\n",
              "      <td>0.123596</td>\n",
              "      <td>0.304348</td>\n",
              "      <td>0.0</td>\n",
              "      <td>1.0</td>\n",
              "    </tr>\n",
              "    <tr>\n",
              "      <th>3</th>\n",
              "      <td>0.280992</td>\n",
              "      <td>0.100000</td>\n",
              "      <td>0.192771</td>\n",
              "      <td>0.121166</td>\n",
              "      <td>0.081395</td>\n",
              "      <td>0.159722</td>\n",
              "      <td>0.414747</td>\n",
              "      <td>0.163678</td>\n",
              "      <td>0.364341</td>\n",
              "      <td>0.101124</td>\n",
              "      <td>0.275362</td>\n",
              "      <td>0.0</td>\n",
              "      <td>1.0</td>\n",
              "    </tr>\n",
              "    <tr>\n",
              "      <th>4</th>\n",
              "      <td>0.280992</td>\n",
              "      <td>0.100000</td>\n",
              "      <td>0.192771</td>\n",
              "      <td>0.121166</td>\n",
              "      <td>0.081395</td>\n",
              "      <td>0.159722</td>\n",
              "      <td>0.414747</td>\n",
              "      <td>0.163678</td>\n",
              "      <td>0.364341</td>\n",
              "      <td>0.101124</td>\n",
              "      <td>0.275362</td>\n",
              "      <td>0.0</td>\n",
              "      <td>1.0</td>\n",
              "    </tr>\n",
              "  </tbody>\n",
              "</table>\n",
              "</div>\n",
              "      <button class=\"colab-df-convert\" onclick=\"convertToInteractive('df-6b894a56-7524-4577-9fbf-8566163e6135')\"\n",
              "              title=\"Convert this dataframe to an interactive table.\"\n",
              "              style=\"display:none;\">\n",
              "        \n",
              "  <svg xmlns=\"http://www.w3.org/2000/svg\" height=\"24px\"viewBox=\"0 0 24 24\"\n",
              "       width=\"24px\">\n",
              "    <path d=\"M0 0h24v24H0V0z\" fill=\"none\"/>\n",
              "    <path d=\"M18.56 5.44l.94 2.06.94-2.06 2.06-.94-2.06-.94-.94-2.06-.94 2.06-2.06.94zm-11 1L8.5 8.5l.94-2.06 2.06-.94-2.06-.94L8.5 2.5l-.94 2.06-2.06.94zm10 10l.94 2.06.94-2.06 2.06-.94-2.06-.94-.94-2.06-.94 2.06-2.06.94z\"/><path d=\"M17.41 7.96l-1.37-1.37c-.4-.4-.92-.59-1.43-.59-.52 0-1.04.2-1.43.59L10.3 9.45l-7.72 7.72c-.78.78-.78 2.05 0 2.83L4 21.41c.39.39.9.59 1.41.59.51 0 1.02-.2 1.41-.59l7.78-7.78 2.81-2.81c.8-.78.8-2.07 0-2.86zM5.41 20L4 18.59l7.72-7.72 1.47 1.35L5.41 20z\"/>\n",
              "  </svg>\n",
              "      </button>\n",
              "      \n",
              "  <style>\n",
              "    .colab-df-container {\n",
              "      display:flex;\n",
              "      flex-wrap:wrap;\n",
              "      gap: 12px;\n",
              "    }\n",
              "\n",
              "    .colab-df-convert {\n",
              "      background-color: #E8F0FE;\n",
              "      border: none;\n",
              "      border-radius: 50%;\n",
              "      cursor: pointer;\n",
              "      display: none;\n",
              "      fill: #1967D2;\n",
              "      height: 32px;\n",
              "      padding: 0 0 0 0;\n",
              "      width: 32px;\n",
              "    }\n",
              "\n",
              "    .colab-df-convert:hover {\n",
              "      background-color: #E2EBFA;\n",
              "      box-shadow: 0px 1px 2px rgba(60, 64, 67, 0.3), 0px 1px 3px 1px rgba(60, 64, 67, 0.15);\n",
              "      fill: #174EA6;\n",
              "    }\n",
              "\n",
              "    [theme=dark] .colab-df-convert {\n",
              "      background-color: #3B4455;\n",
              "      fill: #D2E3FC;\n",
              "    }\n",
              "\n",
              "    [theme=dark] .colab-df-convert:hover {\n",
              "      background-color: #434B5C;\n",
              "      box-shadow: 0px 1px 3px 1px rgba(0, 0, 0, 0.15);\n",
              "      filter: drop-shadow(0px 1px 2px rgba(0, 0, 0, 0.3));\n",
              "      fill: #FFFFFF;\n",
              "    }\n",
              "  </style>\n",
              "\n",
              "      <script>\n",
              "        const buttonEl =\n",
              "          document.querySelector('#df-6b894a56-7524-4577-9fbf-8566163e6135 button.colab-df-convert');\n",
              "        buttonEl.style.display =\n",
              "          google.colab.kernel.accessAllowed ? 'block' : 'none';\n",
              "\n",
              "        async function convertToInteractive(key) {\n",
              "          const element = document.querySelector('#df-6b894a56-7524-4577-9fbf-8566163e6135');\n",
              "          const dataTable =\n",
              "            await google.colab.kernel.invokeFunction('convertToInteractive',\n",
              "                                                     [key], {});\n",
              "          if (!dataTable) return;\n",
              "\n",
              "          const docLinkHtml = 'Like what you see? Visit the ' +\n",
              "            '<a target=\"_blank\" href=https://colab.research.google.com/notebooks/data_table.ipynb>data table notebook</a>'\n",
              "            + ' to learn more about interactive tables.';\n",
              "          element.innerHTML = '';\n",
              "          dataTable['output_type'] = 'display_data';\n",
              "          await google.colab.output.renderOutput(dataTable, element);\n",
              "          const docLink = document.createElement('div');\n",
              "          docLink.innerHTML = docLinkHtml;\n",
              "          element.appendChild(docLink);\n",
              "        }\n",
              "      </script>\n",
              "    </div>\n",
              "  </div>\n",
              "  "
            ]
          },
          "metadata": {},
          "execution_count": 54
        }
      ]
    },
    {
      "cell_type": "markdown",
      "source": [
        "nds = nds.to_numpy()"
      ],
      "metadata": {
        "id": "nn_199Nf9uOh"
      }
    },
    {
      "cell_type": "code",
      "source": [
        "nds = nds.to_numpy()"
      ],
      "metadata": {
        "id": "TUEFFH3p9zoj"
      },
      "execution_count": 73,
      "outputs": []
    },
    {
      "cell_type": "markdown",
      "source": [
        "# split"
      ],
      "metadata": {
        "id": "zx0FTEnk1Z_y"
      }
    },
    {
      "cell_type": "code",
      "source": [
        "n = nds.shape[0]\n",
        "idx = np.random.permutation(np.arange(0, n)) # 100, 2, 0, 40, ...\n",
        "train_idx = idx[:int(0.85 * n)]\n",
        "val_idx = idx[int(0.85 * n):]\n",
        "assert len(idx) == len(train_idx) + len(val_idx)\n",
        "\n",
        "X_train = nds[train_idx,:]\n",
        "y_train = quality_label[train_idx]\n",
        "\n",
        "X_val = nds[val_idx,:]\n",
        "y_val = quality_label[val_idx]"
      ],
      "metadata": {
        "id": "VfXNOZHi1br-"
      },
      "execution_count": 74,
      "outputs": []
    },
    {
      "cell_type": "code",
      "source": [
        "import torch\n",
        "from torch.utils.data import Dataset, DataLoader"
      ],
      "metadata": {
        "id": "MXiOLIB560Sn"
      },
      "execution_count": 75,
      "outputs": []
    },
    {
      "cell_type": "code",
      "source": [
        "class CustomDataset(Dataset):\n",
        "  def __init__(self, X, y):\n",
        "    super().__init__()\n",
        "    self.X = X\n",
        "    self.y = y\n",
        "  def __len__(self):\n",
        "    return self.X.shape[0]\n",
        "  def __getitem__(self, idx):\n",
        "    return self.X[idx], self.y[idx]"
      ],
      "metadata": {
        "id": "FuY8Owwx7P_3"
      },
      "execution_count": 80,
      "outputs": []
    },
    {
      "cell_type": "code",
      "source": [
        "train = CustomDataset(X_train, y_train)\n",
        "val = CustomDataset(X_val, y_val)"
      ],
      "metadata": {
        "id": "nsgH9g689Dr8"
      },
      "execution_count": 81,
      "outputs": []
    },
    {
      "cell_type": "code",
      "source": [
        "print(train[0])\n",
        "type(train[0])\n",
        "type(train[0][0])"
      ],
      "metadata": {
        "colab": {
          "base_uri": "https://localhost:8080/"
        },
        "id": "go6rqB119MXh",
        "outputId": "bb2d7e68-7b1f-49f3-ec32-9892bdb535aa"
      },
      "execution_count": 82,
      "outputs": [
        {
          "output_type": "stream",
          "name": "stdout",
          "text": [
            "(array([0.27272727, 0.06666667, 0.44578313, 0.23006135, 0.05813953,\n",
            "       0.14930556, 0.39170507, 0.24079429, 0.51162791, 0.25280899,\n",
            "       0.14492754, 0.        , 1.        ]), 0)\n"
          ]
        },
        {
          "output_type": "execute_result",
          "data": {
            "text/plain": [
              "numpy.ndarray"
            ]
          },
          "metadata": {},
          "execution_count": 82
        }
      ]
    },
    {
      "cell_type": "code",
      "source": [
        "train_dataloader = DataLoader(train, batch_size = 128, shuffle = True)\n",
        "val_dataloader = DataLoader(val, batch_size = 128, shuffle = True)\n",
        "\n"
      ],
      "metadata": {
        "id": "BDR-Alzl-BJi"
      },
      "execution_count": 84,
      "outputs": []
    },
    {
      "cell_type": "code",
      "source": [
        "print(iter(train_dataloader))"
      ],
      "metadata": {
        "colab": {
          "base_uri": "https://localhost:8080/"
        },
        "id": "ZhtBJvj4-QlM",
        "outputId": "66880140-42d9-4b67-9d30-2219b6071c26"
      },
      "execution_count": 85,
      "outputs": [
        {
          "output_type": "stream",
          "name": "stdout",
          "text": [
            "<torch.utils.data.dataloader._SingleProcessDataLoaderIter object at 0x7f05fcab5f50>\n"
          ]
        }
      ]
    },
    {
      "cell_type": "code",
      "source": [
        "class NNet(torch.nn.Module):\n",
        "  def __init__(self):\n",
        "    super().__init__()\n",
        "    self.linear_1 = torch.nn.Linear(in_features=13, out_features=200, bias = True)\n",
        "    self.relu_1 = torch.nn.ReLU()\n",
        "    self.linear_2 = torch.nn.Linear(in_features = 200, out_features = 100, bias = True)\n",
        "    self.relu_2 = torch.nn.ReLU()\n",
        "    self.linear_3 = torch.nn.Linear(in_features = 100, out_features = 1, bias = True)\n",
        "\n",
        "  def forward(self, x):\n",
        "    x = self.linear_1(x)\n",
        "    x = self.relu_1(x)\n",
        "    x = self.linear_2(x)\n",
        "    x = self.relu_2(x)\n",
        "    x = self.linear_3(x)\n",
        "    return x"
      ],
      "metadata": {
        "id": "bmn3ISMn-U6B"
      },
      "execution_count": 88,
      "outputs": []
    },
    {
      "cell_type": "code",
      "source": [
        "nnet = NNet()\n",
        "print(nnet)"
      ],
      "metadata": {
        "colab": {
          "base_uri": "https://localhost:8080/"
        },
        "id": "C03Q_yRJAzlY",
        "outputId": "3ec1da0c-6310-4ecb-b4de-6c694c0e20e6"
      },
      "execution_count": 108,
      "outputs": [
        {
          "output_type": "stream",
          "name": "stdout",
          "text": [
            "NNet(\n",
            "  (linear_1): Linear(in_features=13, out_features=200, bias=True)\n",
            "  (relu_1): ReLU()\n",
            "  (linear_2): Linear(in_features=200, out_features=100, bias=True)\n",
            "  (relu_2): ReLU()\n",
            "  (linear_3): Linear(in_features=100, out_features=1, bias=True)\n",
            ")\n"
          ]
        }
      ]
    },
    {
      "cell_type": "code",
      "source": [
        "optimizer = torch.optim.Adam(nnet.parameters(), lr = 0.001)"
      ],
      "metadata": {
        "id": "u7Pq86DbA3Xx"
      },
      "execution_count": 109,
      "outputs": []
    },
    {
      "cell_type": "code",
      "source": [
        "loss_function = torch.nn.BCEWithLogitsLoss(reduction = 'sum')"
      ],
      "metadata": {
        "id": "FNxgqREkBFWp"
      },
      "execution_count": 110,
      "outputs": []
    },
    {
      "cell_type": "code",
      "source": [
        "device = \"\"\n",
        "if torch.cuda.is_available():\n",
        "    device = \"cuda:0\"\n",
        "else:\n",
        "    device = \"cpu\"\n",
        "\n",
        "nnet.to(device)\n",
        "\n",
        "auc_train_list = []\n",
        "auc_val_list = []\n",
        "for epoch in range(500):\n",
        "\n",
        "    running_loss = 0\n",
        "    running_y_score = []\n",
        "    running_y_truth = []\n",
        "\n",
        "    #### TRAINING ####\n",
        "\n",
        "    nnet.train()\n",
        "\n",
        "    for i, data in enumerate(train_dataloader):\n",
        "\n",
        "        # data del batch\n",
        "        X, y = data\n",
        "        X = X.to(device).float()\n",
        "        y = y.to(device).float().reshape(-1,1)\n",
        "\n",
        "        # forward\n",
        "        optimizer.zero_grad()\n",
        "        y_hat = nnet(X)\n",
        "        y_score = torch.sigmoid(y_hat)\n",
        "\n",
        "        # backward\n",
        "        loss = loss_function(y_hat, y)\n",
        "        loss.backward()\n",
        "        optimizer.step()\n",
        "\n",
        "        # metrics\n",
        "        running_loss += loss.item() \n",
        "        running_y_score += list(y_score.detach().numpy())\n",
        "        running_y_truth += list(y.detach().numpy())\n",
        "\n",
        "    fpr, tpr, thresholds = metrics.roc_curve(running_y_truth, running_y_score)\n",
        "    auc_value = metrics.auc(fpr, tpr)\n",
        "    auc_train_list.append(auc_value)\n",
        "    # print(\"Loss en epoch {} = {} | AUC = {}\".format(epoch, running_loss, auc_value))\n",
        "\n",
        "    #### VALIDATION ####\n",
        "\n",
        "    nnet.eval()\n",
        "    with torch.no_grad():\n",
        "\n",
        "        for i, data in enumerate(val_dataloader):\n",
        "\n",
        "            # data del batch\n",
        "            X, y = data\n",
        "            X = X.to(device).float()\n",
        "            y = y.to(device).float().reshape(-1,1)\n",
        "\n",
        "            # forward\n",
        "            optimizer.zero_grad()\n",
        "            y_hat = nnet(X)\n",
        "            y_score = torch.sigmoid(y_hat)\n",
        "\n",
        "            # metrics\n",
        "            running_loss += loss.item() \n",
        "            running_y_score += list(y_score.detach().numpy())\n",
        "            running_y_truth += list(y.detach().numpy())\n",
        "\n",
        "        fpr, tpr, thresholds = metrics.roc_curve(running_y_truth, running_y_score)\n",
        "        auc_value = metrics.auc(fpr, tpr)\n",
        "        auc_val_list.append(auc_value)\n",
        "        print(\"Val loss en epoch {} = {} | AUC = {}\".format(epoch, running_loss, auc_value))\n"
      ],
      "metadata": {
        "colab": {
          "base_uri": "https://localhost:8080/"
        },
        "id": "YP-6FE2WBdmS",
        "outputId": "9d3177e3-6c8e-4d47-e4db-56d335e584bb"
      },
      "execution_count": 111,
      "outputs": [
        {
          "output_type": "stream",
          "name": "stdout",
          "text": [
            "Val loss en epoch 0 = 3440.197868347168 | AUC = 0.5218877556587087\n",
            "Val loss en epoch 1 = 2970.322052001953 | AUC = 0.722409286695382\n",
            "Val loss en epoch 2 = 2717.3830032348633 | AUC = 0.7710262656704802\n",
            "Val loss en epoch 3 = 2546.111183166504 | AUC = 0.7869883037390938\n",
            "Val loss en epoch 4 = 2590.225814819336 | AUC = 0.7986134936154272\n",
            "Val loss en epoch 5 = 2571.877223968506 | AUC = 0.8082551349955569\n",
            "Val loss en epoch 6 = 2482.4330444335938 | AUC = 0.8104061322933425\n",
            "Val loss en epoch 7 = 2586.611961364746 | AUC = 0.8152453268903682\n",
            "Val loss en epoch 8 = 2524.175464630127 | AUC = 0.8163293495167171\n",
            "Val loss en epoch 9 = 2482.9780654907227 | AUC = 0.8187009852354102\n",
            "Val loss en epoch 10 = 2473.408515930176 | AUC = 0.8225116956547567\n",
            "Val loss en epoch 11 = 2427.3007621765137 | AUC = 0.8234994920467122\n",
            "Val loss en epoch 12 = 2471.809841156006 | AUC = 0.8244626636149058\n",
            "Val loss en epoch 13 = 2411.2966232299805 | AUC = 0.8283489911853739\n",
            "Val loss en epoch 14 = 2345.10147857666 | AUC = 0.8296269058855905\n",
            "Val loss en epoch 15 = 2377.9873428344727 | AUC = 0.8315655993182032\n",
            "Val loss en epoch 16 = 2419.1229934692383 | AUC = 0.8341573430769846\n",
            "Val loss en epoch 17 = 2390.984203338623 | AUC = 0.8339714067154093\n",
            "Val loss en epoch 18 = 2421.5283432006836 | AUC = 0.8328401044274373\n",
            "Val loss en epoch 19 = 2282.444118499756 | AUC = 0.8377608261332874\n",
            "Val loss en epoch 20 = 2354.912509918213 | AUC = 0.8400201726556259\n",
            "Val loss en epoch 21 = 2288.8542251586914 | AUC = 0.8407314133345617\n",
            "Val loss en epoch 22 = 2361.4635276794434 | AUC = 0.8420235725482161\n",
            "Val loss en epoch 23 = 2350.7828979492188 | AUC = 0.845362168269528\n",
            "Val loss en epoch 24 = 2336.3768463134766 | AUC = 0.8476384112094016\n",
            "Val loss en epoch 25 = 2330.0479431152344 | AUC = 0.847508998289446\n",
            "Val loss en epoch 26 = 2309.815628051758 | AUC = 0.8473446560040927\n",
            "Val loss en epoch 27 = 2264.902656555176 | AUC = 0.849141207377082\n",
            "Val loss en epoch 28 = 2245.0585899353027 | AUC = 0.8503514606384694\n",
            "Val loss en epoch 29 = 2235.2724113464355 | AUC = 0.8506659006957386\n",
            "Val loss en epoch 30 = 2291.4046363830566 | AUC = 0.8511096779042744\n",
            "Val loss en epoch 31 = 2303.50431060791 | AUC = 0.8526420238604693\n",
            "Val loss en epoch 32 = 2223.1867866516113 | AUC = 0.855308551314799\n",
            "Val loss en epoch 33 = 2358.166202545166 | AUC = 0.8559047751245941\n",
            "Val loss en epoch 34 = 2306.733856201172 | AUC = 0.8568128628562491\n",
            "Val loss en epoch 35 = 2245.116386413574 | AUC = 0.8575890373012285\n",
            "Val loss en epoch 36 = 2241.037040710449 | AUC = 0.8566519301618783\n",
            "Val loss en epoch 37 = 2225.039192199707 | AUC = 0.8560514633055272\n",
            "Val loss en epoch 38 = 2217.0611152648926 | AUC = 0.8571354101631875\n",
            "Val loss en epoch 39 = 2274.889507293701 | AUC = 0.8619005029828618\n",
            "Val loss en epoch 40 = 2258.3546714782715 | AUC = 0.8600493981541535\n",
            "Val loss en epoch 41 = 2200.6768531799316 | AUC = 0.8618201124043647\n",
            "Val loss en epoch 42 = 2190.4008140563965 | AUC = 0.861120009722638\n",
            "Val loss en epoch 43 = 2276.942600250244 | AUC = 0.8608150407514316\n",
            "Val loss en epoch 44 = 2208.404312133789 | AUC = 0.8639423933692093\n",
            "Val loss en epoch 45 = 2248.720630645752 | AUC = 0.8611463014575471\n",
            "Val loss en epoch 46 = 2261.9283084869385 | AUC = 0.8552437690861328\n",
            "Val loss en epoch 47 = 2206.0349769592285 | AUC = 0.8636412886011161\n",
            "Val loss en epoch 48 = 2223.2154235839844 | AUC = 0.8638408633266212\n",
            "Val loss en epoch 49 = 2192.5464515686035 | AUC = 0.8640887784753883\n",
            "Val loss en epoch 50 = 2151.029670715332 | AUC = 0.8668724443221368\n",
            "Val loss en epoch 51 = 2241.4949531555176 | AUC = 0.8661991637561388\n",
            "Val loss en epoch 52 = 2188.576238632202 | AUC = 0.8684493422671689\n",
            "Val loss en epoch 53 = 2206.750907897949 | AUC = 0.8649754236681986\n",
            "Val loss en epoch 54 = 2158.8104877471924 | AUC = 0.8677830324205127\n",
            "Val loss en epoch 55 = 2136.356189727783 | AUC = 0.8694540350766597\n",
            "Val loss en epoch 56 = 2236.1380729675293 | AUC = 0.86716044110712\n",
            "Val loss en epoch 57 = 2269.616912841797 | AUC = 0.8679858651996232\n",
            "Val loss en epoch 58 = 2145.97945022583 | AUC = 0.8689191839045484\n",
            "Val loss en epoch 59 = 2153.901039123535 | AUC = 0.8704267534996043\n",
            "Val loss en epoch 60 = 2096.971426010132 | AUC = 0.8691456565144705\n",
            "Val loss en epoch 61 = 2149.473133087158 | AUC = 0.8703736396489667\n",
            "Val loss en epoch 62 = 2145.873115539551 | AUC = 0.8717794518953688\n",
            "Val loss en epoch 63 = 2215.4271965026855 | AUC = 0.8705176759258023\n",
            "Val loss en epoch 64 = 2106.017608642578 | AUC = 0.8710304784095606\n",
            "Val loss en epoch 65 = 2084.0924224853516 | AUC = 0.8724333356771115\n",
            "Val loss en epoch 66 = 2162.2442302703857 | AUC = 0.872221410655381\n",
            "Val loss en epoch 67 = 2101.8658409118652 | AUC = 0.8709804710751516\n",
            "Val loss en epoch 68 = 2086.8429527282715 | AUC = 0.8716175342080474\n",
            "Val loss en epoch 69 = 2141.2102127075195 | AUC = 0.8735039472455959\n",
            "Val loss en epoch 70 = 2157.1360626220703 | AUC = 0.8748551302675908\n",
            "Val loss en epoch 71 = 2066.95157623291 | AUC = 0.8734852323795369\n",
            "Val loss en epoch 72 = 2089.6388816833496 | AUC = 0.8733270273579519\n",
            "Val loss en epoch 73 = 2166.3542861938477 | AUC = 0.8729496992892292\n",
            "Val loss en epoch 74 = 2123.5640411376953 | AUC = 0.8757351078158129\n",
            "Val loss en epoch 75 = 2119.209087371826 | AUC = 0.8743002003930274\n",
            "Val loss en epoch 76 = 2137.301622390747 | AUC = 0.8754058170955983\n",
            "Val loss en epoch 77 = 2152.5907344818115 | AUC = 0.8744865913667339\n",
            "Val loss en epoch 78 = 2140.047769546509 | AUC = 0.874787241522696\n",
            "Val loss en epoch 79 = 2213.5575408935547 | AUC = 0.8770737890042056\n",
            "Val loss en epoch 80 = 2092.858501434326 | AUC = 0.8780199883861755\n",
            "Val loss en epoch 81 = 2068.8172454833984 | AUC = 0.8781234884146645\n",
            "Val loss en epoch 82 = 2107.874834060669 | AUC = 0.8794973262745203\n",
            "Val loss en epoch 83 = 2030.7913551330566 | AUC = 0.8792694140595164\n",
            "Val loss en epoch 84 = 2023.2286949157715 | AUC = 0.8806844700859157\n",
            "Val loss en epoch 85 = 2132.31715965271 | AUC = 0.8789265607440606\n",
            "Val loss en epoch 86 = 2074.050434112549 | AUC = 0.8772569976929948\n",
            "Val loss en epoch 87 = 2103.538164138794 | AUC = 0.8793938262460312\n",
            "Val loss en epoch 88 = 2001.5469455718994 | AUC = 0.8795376352168014\n",
            "Val loss en epoch 89 = 2060.7384033203125 | AUC = 0.881453522274176\n",
            "Val loss en epoch 90 = 2103.898031234741 | AUC = 0.8815176225846456\n",
            "Val loss en epoch 91 = 2015.4927864074707 | AUC = 0.879617343877102\n",
            "Val loss en epoch 92 = 2186.9324951171875 | AUC = 0.8803082027788318\n",
            "Val loss en epoch 93 = 2152.554340362549 | AUC = 0.8799207974745387\n",
            "Val loss en epoch 94 = 2021.5555801391602 | AUC = 0.8825021609229959\n",
            "Val loss en epoch 95 = 2100.1756496429443 | AUC = 0.88139730190731\n",
            "Val loss en epoch 96 = 2049.840072631836 | AUC = 0.8835908054393432\n",
            "Val loss en epoch 97 = 2108.0660457611084 | AUC = 0.8815270179020196\n",
            "Val loss en epoch 98 = 2001.3788833618164 | AUC = 0.876678124912866\n",
            "Val loss en epoch 99 = 2143.2595920562744 | AUC = 0.882817207129773\n",
            "Val loss en epoch 100 = 2030.6604499816895 | AUC = 0.8822030261408036\n",
            "Val loss en epoch 101 = 2102.3834171295166 | AUC = 0.8836061107144197\n",
            "Val loss en epoch 102 = 2011.3808116912842 | AUC = 0.8831508166652322\n",
            "Val loss en epoch 103 = 2078.314535140991 | AUC = 0.8828397861989457\n",
            "Val loss en epoch 104 = 2023.8728313446045 | AUC = 0.8839852572316667\n",
            "Val loss en epoch 105 = 2069.507692337036 | AUC = 0.8869388722467173\n",
            "Val loss en epoch 106 = 2025.4961967468262 | AUC = 0.8854571397744397\n",
            "Val loss en epoch 107 = 1991.6934185028076 | AUC = 0.8870350984811105\n",
            "Val loss en epoch 108 = 2003.329553604126 | AUC = 0.8851725525804389\n",
            "Val loss en epoch 109 = 2056.5860633850098 | AUC = 0.8837182483733979\n",
            "Val loss en epoch 110 = 2070.3374061584473 | AUC = 0.8806723470957557\n",
            "Val loss en epoch 111 = 2100.8838081359863 | AUC = 0.8867802126130014\n",
            "Val loss en epoch 112 = 2015.0052738189697 | AUC = 0.8869964564499762\n",
            "Val loss en epoch 113 = 2046.372854232788 | AUC = 0.8898744543139054\n",
            "Val loss en epoch 114 = 1982.2158584594727 | AUC = 0.8843759205895654\n",
            "Val loss en epoch 115 = 1978.674367904663 | AUC = 0.8887821729005101\n",
            "Val loss en epoch 116 = 2056.531448364258 | AUC = 0.8876195781441885\n",
            "Val loss en epoch 117 = 2050.618869781494 | AUC = 0.8888558200657309\n",
            "Val loss en epoch 118 = 2036.8901405334473 | AUC = 0.8869320530647524\n",
            "Val loss en epoch 119 = 1984.116283416748 | AUC = 0.8892002645236454\n",
            "Val loss en epoch 120 = 2015.380807876587 | AUC = 0.8902152618747721\n",
            "Val loss en epoch 121 = 2046.1829719543457 | AUC = 0.887020550892919\n",
            "Val loss en epoch 122 = 1990.0143184661865 | AUC = 0.8909037719471583\n",
            "Val loss en epoch 123 = 2024.80717086792 | AUC = 0.8907520072640956\n",
            "Val loss en epoch 124 = 2012.4330158233643 | AUC = 0.8929229317269562\n",
            "Val loss en epoch 125 = 2021.065185546875 | AUC = 0.8911734327095246\n",
            "Val loss en epoch 126 = 2004.0033569335938 | AUC = 0.892252833445875\n",
            "Val loss en epoch 127 = 1920.0106163024902 | AUC = 0.8939981651854394\n",
            "Val loss en epoch 128 = 1975.8494205474854 | AUC = 0.8926162200759142\n",
            "Val loss en epoch 129 = 1994.3637065887451 | AUC = 0.8933308703458326\n",
            "Val loss en epoch 130 = 2000.6809406280518 | AUC = 0.8947703238899279\n",
            "Val loss en epoch 131 = 1869.8536701202393 | AUC = 0.8927374499775119\n",
            "Val loss en epoch 132 = 2007.215446472168 | AUC = 0.8956001425663642\n",
            "Val loss en epoch 133 = 1919.4034385681152 | AUC = 0.89282988777748\n",
            "Val loss en epoch 134 = 1981.8986797332764 | AUC = 0.8941138639727766\n",
            "Val loss en epoch 135 = 1885.2316551208496 | AUC = 0.8938138199663223\n",
            "Val loss en epoch 136 = 2006.3362998962402 | AUC = 0.8968900287193639\n",
            "Val loss en epoch 137 = 2006.8106803894043 | AUC = 0.8968135023439802\n",
            "Val loss en epoch 138 = 1930.076099395752 | AUC = 0.8946325764142378\n",
            "Val loss en epoch 139 = 1933.8687019348145 | AUC = 0.8978792647164008\n",
            "Val loss en epoch 140 = 1970.3169231414795 | AUC = 0.8955564998017891\n",
            "Val loss en epoch 141 = 1925.1877841949463 | AUC = 0.8967762241492389\n",
            "Val loss en epoch 142 = 1902.7381420135498 | AUC = 0.8980411066350338\n",
            "Val loss en epoch 143 = 1930.8417530059814 | AUC = 0.9013964472365038\n",
            "Val loss en epoch 144 = 1967.3217239379883 | AUC = 0.8951744740743792\n",
            "Val loss en epoch 145 = 1947.8891010284424 | AUC = 0.9001992261895381\n",
            "Val loss en epoch 146 = 1946.6392040252686 | AUC = 0.8961305233858541\n",
            "Val loss en epoch 147 = 1957.747709274292 | AUC = 0.9001605083897154\n",
            "Val loss en epoch 148 = 1867.6075706481934 | AUC = 0.901488430424341\n",
            "Val loss en epoch 149 = 1967.9865093231201 | AUC = 0.8988516800645913\n",
            "Val loss en epoch 150 = 1901.9507579803467 | AUC = 0.8995038969351868\n",
            "Val loss en epoch 151 = 1931.5266437530518 | AUC = 0.9003040142857317\n",
            "Val loss en epoch 152 = 1912.6968212127686 | AUC = 0.902164135588371\n",
            "Val loss en epoch 153 = 1905.3365058898926 | AUC = 0.900499952114189\n",
            "Val loss en epoch 154 = 1910.1642303466797 | AUC = 0.9036055591183676\n",
            "Val loss en epoch 155 = 1825.2291774749756 | AUC = 0.9018201457425878\n",
            "Val loss en epoch 156 = 1908.1714763641357 | AUC = 0.900125503255629\n",
            "Val loss en epoch 157 = 1830.1698608398438 | AUC = 0.9039921309670873\n",
            "Val loss en epoch 158 = 1808.6932697296143 | AUC = 0.9032889975378208\n",
            "Val loss en epoch 159 = 1892.2545204162598 | AUC = 0.9034875115016869\n",
            "Val loss en epoch 160 = 1872.6953678131104 | AUC = 0.9025197938121834\n",
            "Val loss en epoch 161 = 1912.8913440704346 | AUC = 0.8994704071748707\n",
            "Val loss en epoch 162 = 1882.2032737731934 | AUC = 0.9036038922072207\n",
            "Val loss en epoch 163 = 1962.1939334869385 | AUC = 0.9004247895751983\n",
            "Val loss en epoch 164 = 1863.171251296997 | AUC = 0.9050722893903229\n",
            "Val loss en epoch 165 = 1845.2915744781494 | AUC = 0.9025153992282504\n",
            "Val loss en epoch 166 = 1806.2516460418701 | AUC = 0.9040895695004963\n",
            "Val loss en epoch 167 = 1863.2407817840576 | AUC = 0.9051324497289904\n",
            "Val loss en epoch 168 = 1879.1033325195312 | AUC = 0.9043179363276311\n",
            "Val loss en epoch 169 = 1837.9409046173096 | AUC = 0.904346804197949\n",
            "Val loss en epoch 170 = 1826.8728294372559 | AUC = 0.9062838307194145\n",
            "Val loss en epoch 171 = 1851.7565460205078 | AUC = 0.9076988867458136\n",
            "Val loss en epoch 172 = 1887.6083602905273 | AUC = 0.9084771069453823\n",
            "Val loss en epoch 173 = 1770.7509384155273 | AUC = 0.9086343269740168\n",
            "Val loss en epoch 174 = 1782.0170211791992 | AUC = 0.9080499988483159\n",
            "Val loss en epoch 175 = 1869.6718063354492 | AUC = 0.9059659053024748\n",
            "Val loss en epoch 176 = 1798.7098636627197 | AUC = 0.9050742593762235\n",
            "Val loss en epoch 177 = 1857.726001739502 | AUC = 0.9038381689920583\n",
            "Val loss en epoch 178 = 1814.8101043701172 | AUC = 0.9058686183064425\n",
            "Val loss en epoch 179 = 1861.3963928222656 | AUC = 0.9087679829405283\n",
            "Val loss en epoch 180 = 1846.2779388427734 | AUC = 0.907154716025017\n",
            "Val loss en epoch 181 = 1905.2792587280273 | AUC = 0.8967835737120231\n",
            "Val loss en epoch 182 = 1807.4910297393799 | AUC = 0.9055144754564002\n",
            "Val loss en epoch 183 = 1760.8030033111572 | AUC = 0.9086896381166208\n",
            "Val loss en epoch 184 = 1865.45210647583 | AUC = 0.909731457583476\n",
            "Val loss en epoch 185 = 1809.3841857910156 | AUC = 0.9055117477836143\n",
            "Val loss en epoch 186 = 1855.870569229126 | AUC = 0.9046688968927563\n",
            "Val loss en epoch 187 = 1800.567377090454 | AUC = 0.9109369374174879\n",
            "Val loss en epoch 188 = 1815.2739372253418 | AUC = 0.9112852460785159\n",
            "Val loss en epoch 189 = 1737.1513500213623 | AUC = 0.9131699922049172\n",
            "Val loss en epoch 190 = 1818.8832817077637 | AUC = 0.9113485887021006\n",
            "Val loss en epoch 191 = 1768.5897579193115 | AUC = 0.9054030197156188\n",
            "Val loss en epoch 192 = 1873.823818206787 | AUC = 0.9056882888278159\n",
            "Val loss en epoch 193 = 1820.6253662109375 | AUC = 0.9129205616823801\n",
            "Val loss en epoch 194 = 1906.623369216919 | AUC = 0.9105393033402475\n",
            "Val loss en epoch 195 = 1882.442388534546 | AUC = 0.9111690926790474\n",
            "Val loss en epoch 196 = 1728.2526092529297 | AUC = 0.9097276691490509\n",
            "Val loss en epoch 197 = 1803.3500804901123 | AUC = 0.9089686184276725\n",
            "Val loss en epoch 198 = 1827.0341205596924 | AUC = 0.9127822080571817\n",
            "Val loss en epoch 199 = 1730.0092754364014 | AUC = 0.912134234233142\n",
            "Val loss en epoch 200 = 1884.601369857788 | AUC = 0.9127529613434213\n",
            "Val loss en epoch 201 = 1830.527141571045 | AUC = 0.9137387119807875\n",
            "Val loss en epoch 202 = 1727.4797115325928 | AUC = 0.9167756725531865\n",
            "Val loss en epoch 203 = 1786.659439086914 | AUC = 0.9157047579099479\n",
            "Val loss en epoch 204 = 1810.7719020843506 | AUC = 0.9124821640507274\n",
            "Val loss en epoch 205 = 1706.382999420166 | AUC = 0.9150173843678892\n",
            "Val loss en epoch 206 = 1764.342908859253 | AUC = 0.915367208402687\n",
            "Val loss en epoch 207 = 1699.4304866790771 | AUC = 0.9135383795683973\n",
            "Val loss en epoch 208 = 1819.067388534546 | AUC = 0.9139989016570916\n",
            "Val loss en epoch 209 = 1712.7453880310059 | AUC = 0.9171505760238775\n",
            "Val loss en epoch 210 = 1718.3059635162354 | AUC = 0.9138929770305705\n",
            "Val loss en epoch 211 = 1761.399164199829 | AUC = 0.914819173478777\n",
            "Val loss en epoch 212 = 1797.998706817627 | AUC = 0.9178656809059267\n",
            "Val loss en epoch 213 = 1698.6850280761719 | AUC = 0.9168223460653016\n",
            "Val loss en epoch 214 = 1761.7004261016846 | AUC = 0.91780294443185\n",
            "Val loss en epoch 215 = 1749.990472793579 | AUC = 0.9156856642004465\n",
            "Val loss en epoch 216 = 1758.193754196167 | AUC = 0.9145018542113449\n",
            "Val loss en epoch 217 = 1786.8328266143799 | AUC = 0.9154325967808612\n",
            "Val loss en epoch 218 = 1717.776948928833 | AUC = 0.9165982222847229\n",
            "Val loss en epoch 219 = 1829.8102951049805 | AUC = 0.9149841976823267\n",
            "Val loss en epoch 220 = 1700.9246921539307 | AUC = 0.9170405598881775\n",
            "Val loss en epoch 221 = 1719.0969314575195 | AUC = 0.9177576347561278\n",
            "Val loss en epoch 222 = 1721.2173442840576 | AUC = 0.9180187336566937\n",
            "Val loss en epoch 223 = 1716.869634628296 | AUC = 0.920186400065949\n",
            "Val loss en epoch 224 = 1724.607255935669 | AUC = 0.9196688241548154\n",
            "Val loss en epoch 225 = 1691.8206729888916 | AUC = 0.9130540661115145\n",
            "Val loss en epoch 226 = 1740.9485397338867 | AUC = 0.9155276107162383\n",
            "Val loss en epoch 227 = 1689.1402397155762 | AUC = 0.9183639358014933\n",
            "Val loss en epoch 228 = 1786.5389728546143 | AUC = 0.9188008180593759\n",
            "Val loss en epoch 229 = 1744.333059310913 | AUC = 0.9200106924773208\n",
            "Val loss en epoch 230 = 1743.7087745666504 | AUC = 0.9168699288016787\n",
            "Val loss en epoch 231 = 1708.675449371338 | AUC = 0.9201479853408804\n",
            "Val loss en epoch 232 = 1686.683162689209 | AUC = 0.9186498868318869\n",
            "Val loss en epoch 233 = 1654.2818775177002 | AUC = 0.920787169997054\n",
            "Val loss en epoch 234 = 1687.890214920044 | AUC = 0.9157327923246925\n",
            "Val loss en epoch 235 = 1681.4762153625488 | AUC = 0.9212325383480485\n",
            "Val loss en epoch 236 = 1682.606637954712 | AUC = 0.9209879570215752\n",
            "Val loss en epoch 237 = 1711.8138332366943 | AUC = 0.9190138796114338\n",
            "Val loss en epoch 238 = 1630.6021194458008 | AUC = 0.9195944950713985\n",
            "Val loss en epoch 239 = 1670.0410442352295 | AUC = 0.9217673137514716\n",
            "Val loss en epoch 240 = 1687.1418495178223 | AUC = 0.9230944780992121\n",
            "Val loss en epoch 241 = 1672.0862121582031 | AUC = 0.9230809912726594\n",
            "Val loss en epoch 242 = 1690.1928100585938 | AUC = 0.9195632026030485\n",
            "Val loss en epoch 243 = 1640.454195022583 | AUC = 0.9225118168846582\n",
            "Val loss en epoch 244 = 1685.1575241088867 | AUC = 0.9220328072359704\n",
            "Val loss en epoch 245 = 1718.8197975158691 | AUC = 0.9199688681612697\n",
            "Val loss en epoch 246 = 1631.6299533843994 | AUC = 0.9257746439174716\n",
            "Val loss en epoch 247 = 1639.915090560913 | AUC = 0.920248985002649\n",
            "Val loss en epoch 248 = 1649.7348747253418 | AUC = 0.9231814605536085\n",
            "Val loss en epoch 249 = 1668.2451496124268 | AUC = 0.9235874291865838\n",
            "Val loss en epoch 250 = 1646.185956954956 | AUC = 0.9230306808634964\n",
            "Val loss en epoch 251 = 1650.274829864502 | AUC = 0.9221323672926575\n",
            "Val loss en epoch 252 = 1689.1833896636963 | AUC = 0.9236140997649352\n",
            "Val loss en epoch 253 = 1619.9406814575195 | AUC = 0.9207523164003448\n",
            "Val loss en epoch 254 = 1609.7519550323486 | AUC = 0.9228600497769976\n",
            "Val loss en epoch 255 = 1581.37845993042 | AUC = 0.920894761534722\n",
            "Val loss en epoch 256 = 1654.2910842895508 | AUC = 0.9241714542375307\n",
            "Val loss en epoch 257 = 1719.97092628479 | AUC = 0.9254513389236481\n",
            "Val loss en epoch 258 = 1598.058801651001 | AUC = 0.9240784102880544\n",
            "Val loss en epoch 259 = 1637.0727672576904 | AUC = 0.9261040104063748\n",
            "Val loss en epoch 260 = 1637.8222007751465 | AUC = 0.9264564863452701\n",
            "Val loss en epoch 261 = 1658.549940109253 | AUC = 0.9260729452440903\n",
            "Val loss en epoch 262 = 1583.6317100524902 | AUC = 0.9261340148070202\n",
            "Val loss en epoch 263 = 1601.135841369629 | AUC = 0.9267544088284463\n",
            "Val loss en epoch 264 = 1669.9439506530762 | AUC = 0.9259988434667387\n",
            "Val loss en epoch 265 = 1653.43994140625 | AUC = 0.9255783272455718\n",
            "Val loss en epoch 266 = 1637.019702911377 | AUC = 0.926642650012911\n",
            "Val loss en epoch 267 = 1578.2080516815186 | AUC = 0.9267974454435136\n",
            "Val loss en epoch 268 = 1606.5467796325684 | AUC = 0.925453915059057\n",
            "Val loss en epoch 269 = 1604.246088027954 | AUC = 0.9266874293078136\n",
            "Val loss en epoch 270 = 1588.643045425415 | AUC = 0.9252907093040312\n",
            "Val loss en epoch 271 = 1677.104824066162 | AUC = 0.9279048805946085\n",
            "Val loss en epoch 272 = 1676.0184955596924 | AUC = 0.9283220629934814\n",
            "Val loss en epoch 273 = 1617.5751781463623 | AUC = 0.9308084882752502\n",
            "Val loss en epoch 274 = 1608.545768737793 | AUC = 0.9284929971547342\n",
            "Val loss en epoch 275 = 1547.6774501800537 | AUC = 0.9275986235556972\n",
            "Val loss en epoch 276 = 1544.8743877410889 | AUC = 0.9261625038338959\n",
            "Val loss en epoch 277 = 1572.7277870178223 | AUC = 0.9272237200850064\n",
            "Val loss en epoch 278 = 1515.4229526519775 | AUC = 0.9301790020112041\n",
            "Val loss en epoch 279 = 1628.1799392700195 | AUC = 0.9306843791634893\n",
            "Val loss en epoch 280 = 1564.4582901000977 | AUC = 0.9323031014245725\n",
            "Val loss en epoch 281 = 1538.7606201171875 | AUC = 0.9309430534660236\n",
            "Val loss en epoch 282 = 1566.766954421997 | AUC = 0.9324594879976336\n",
            "Val loss en epoch 283 = 1557.801950454712 | AUC = 0.9286295323314085\n",
            "Val loss en epoch 284 = 1629.4782257080078 | AUC = 0.9303646352980256\n",
            "Val loss en epoch 285 = 1597.7111434936523 | AUC = 0.9329936572515484\n",
            "Val loss en epoch 286 = 1662.9554805755615 | AUC = 0.9279448864621356\n",
            "Val loss en epoch 287 = 1612.8341369628906 | AUC = 0.930923959756522\n",
            "Val loss en epoch 288 = 1534.4015216827393 | AUC = 0.930343268527869\n",
            "Val loss en epoch 289 = 1498.8008861541748 | AUC = 0.9344352323189218\n",
            "Val loss en epoch 290 = 1526.5975074768066 | AUC = 0.9317283201536226\n",
            "Val loss en epoch 291 = 1551.4091491699219 | AUC = 0.9335538909343067\n",
            "Val loss en epoch 292 = 1554.272050857544 | AUC = 0.9305352663845243\n",
            "Val loss en epoch 293 = 1537.9861145019531 | AUC = 0.9253092726327135\n",
            "Val loss en epoch 294 = 1537.691312789917 | AUC = 0.9327813533863755\n",
            "Val loss en epoch 295 = 1531.8559646606445 | AUC = 0.9333553769704405\n",
            "Val loss en epoch 296 = 1515.340576171875 | AUC = 0.9333090065330794\n",
            "Val loss en epoch 297 = 1549.5288772583008 | AUC = 0.9349171211777728\n",
            "Val loss en epoch 298 = 1516.3863372802734 | AUC = 0.9319227426083099\n",
            "Val loss en epoch 299 = 1509.946195602417 | AUC = 0.9322494571931157\n",
            "Val loss en epoch 300 = 1431.2322120666504 | AUC = 0.9346802682575264\n",
            "Val loss en epoch 301 = 1483.4686222076416 | AUC = 0.9343559782707525\n",
            "Val loss en epoch 302 = 1619.5034942626953 | AUC = 0.9322893115232659\n",
            "Val loss en epoch 303 = 1518.6635074615479 | AUC = 0.9356406363842454\n",
            "Val loss en epoch 304 = 1567.925989151001 | AUC = 0.9329625920892639\n",
            "Val loss en epoch 305 = 1548.2062282562256 | AUC = 0.9348124088502677\n",
            "Val loss en epoch 306 = 1461.951223373413 | AUC = 0.9361851859484844\n",
            "Val loss en epoch 307 = 1551.9191465377808 | AUC = 0.9291778703300726\n",
            "Val loss en epoch 308 = 1595.5767269134521 | AUC = 0.936578425441792\n",
            "Val loss en epoch 309 = 1440.7960739135742 | AUC = 0.9386769150384481\n",
            "Val loss en epoch 310 = 1501.1499290466309 | AUC = 0.9330852615959432\n",
            "Val loss en epoch 311 = 1550.1950016021729 | AUC = 0.9353167252409142\n",
            "Val loss en epoch 312 = 1550.4283275604248 | AUC = 0.935531302166742\n",
            "Val loss en epoch 313 = 1406.4756393432617 | AUC = 0.9396271301609084\n",
            "Val loss en epoch 314 = 1521.987777709961 | AUC = 0.9359149948052987\n",
            "Val loss en epoch 315 = 1537.9757328033447 | AUC = 0.9365411472470507\n",
            "Val loss en epoch 316 = 1520.2806234359741 | AUC = 0.9373162609303911\n",
            "Val loss en epoch 317 = 1454.7607898712158 | AUC = 0.9358992349180909\n",
            "Val loss en epoch 318 = 1452.3422546386719 | AUC = 0.9388266339669212\n",
            "Val loss en epoch 319 = 1456.4707279205322 | AUC = 0.9390084788193177\n",
            "Val loss en epoch 320 = 1404.0149822235107 | AUC = 0.937787087560721\n",
            "Val loss en epoch 321 = 1495.9942474365234 | AUC = 0.9383905093959236\n",
            "Val loss en epoch 322 = 1495.725793838501 | AUC = 0.9387229824010553\n",
            "Val loss en epoch 323 = 1499.1455268859863 | AUC = 0.9361283594321106\n",
            "Val loss en epoch 324 = 1446.8577671051025 | AUC = 0.9363665761887501\n",
            "Val loss en epoch 325 = 1501.807954788208 | AUC = 0.9381124383091339\n",
            "Val loss en epoch 326 = 1504.9191761016846 | AUC = 0.9353618833792592\n",
            "Val loss en epoch 327 = 1464.603630065918 | AUC = 0.938320347590374\n",
            "Val loss en epoch 328 = 1455.4995822906494 | AUC = 0.9398325390754281\n",
            "Val loss en epoch 329 = 1396.240653038025 | AUC = 0.9424333750768294\n",
            "Val loss en epoch 330 = 1466.210578918457 | AUC = 0.9388719436426434\n",
            "Val loss en epoch 331 = 1404.478801727295 | AUC = 0.9388285281841338\n",
            "Val loss en epoch 332 = 1448.817964553833 | AUC = 0.9395800778053508\n",
            "Val loss en epoch 333 = 1436.5681838989258 | AUC = 0.9412607788536258\n",
            "Val loss en epoch 334 = 1407.3384265899658 | AUC = 0.9416250747079268\n",
            "Val loss en epoch 335 = 1434.8602676391602 | AUC = 0.9406147750154872\n",
            "Val loss en epoch 336 = 1429.8594226837158 | AUC = 0.9398192037862524\n",
            "Val loss en epoch 337 = 1413.6915435791016 | AUC = 0.9423777608594714\n",
            "Val loss en epoch 338 = 1429.3546237945557 | AUC = 0.9406096227446693\n",
            "Val loss en epoch 339 = 1464.4386157989502 | AUC = 0.9371577528340519\n",
            "Val loss en epoch 340 = 1408.0872402191162 | AUC = 0.9408007113770626\n",
            "Val loss en epoch 341 = 1367.2419681549072 | AUC = 0.941247595101827\n",
            "Val loss en epoch 342 = 1445.5522346496582 | AUC = 0.9399146723337604\n",
            "Val loss en epoch 343 = 1407.686435699463 | AUC = 0.9408226842967272\n",
            "Val loss en epoch 344 = 1375.1350803375244 | AUC = 0.9415833261605642\n",
            "Val loss en epoch 345 = 1348.2478399276733 | AUC = 0.9414662635368338\n",
            "Val loss en epoch 346 = 1379.5300359725952 | AUC = 0.9422671385742635\n",
            "Val loss en epoch 347 = 1412.5103397369385 | AUC = 0.9411630372454628\n",
            "Val loss en epoch 348 = 1445.2174110412598 | AUC = 0.9382956469979234\n",
            "Val loss en epoch 349 = 1417.078649520874 | AUC = 0.9363371779376126\n",
            "Val loss en epoch 350 = 1429.9595165252686 | AUC = 0.9393953537427914\n",
            "Val loss en epoch 351 = 1375.903829574585 | AUC = 0.9396703940820411\n",
            "Val loss en epoch 352 = 1382.3722381591797 | AUC = 0.9435235349669466\n",
            "Val loss en epoch 353 = 1359.6277542114258 | AUC = 0.9424632279400978\n",
            "Val loss en epoch 354 = 1418.0831127166748 | AUC = 0.9402471453388922\n",
            "Val loss en epoch 355 = 1390.1479263305664 | AUC = 0.9405324902197777\n",
            "Val loss en epoch 356 = 1348.3033962249756 | AUC = 0.9416616709844717\n",
            "Val loss en epoch 357 = 1445.1157188415527 | AUC = 0.9415697635653228\n",
            "Val loss en epoch 358 = 1330.635793685913 | AUC = 0.9458473606431974\n",
            "Val loss en epoch 359 = 1388.7168035507202 | AUC = 0.9431568145146138\n",
            "Val loss en epoch 360 = 1387.5109634399414 | AUC = 0.945076490006413\n",
            "Val loss en epoch 361 = 1388.5139083862305 | AUC = 0.9447420470153804\n",
            "Val loss en epoch 362 = 1376.7439460754395 | AUC = 0.9412294106165875\n",
            "Val loss en epoch 363 = 1328.6515712738037 | AUC = 0.943761600186209\n",
            "Val loss en epoch 364 = 1384.0348815917969 | AUC = 0.945557015028871\n",
            "Val loss en epoch 365 = 1362.4694023132324 | AUC = 0.9459007017999003\n",
            "Val loss en epoch 366 = 1334.4480819702148 | AUC = 0.9443072862807758\n",
            "Val loss en epoch 367 = 1400.1868629455566 | AUC = 0.9412460797280571\n",
            "Val loss en epoch 368 = 1318.5169715881348 | AUC = 0.9452174197670205\n",
            "Val loss en epoch 369 = 1346.2253513336182 | AUC = 0.9476068611275108\n",
            "Val loss en epoch 370 = 1362.040672302246 | AUC = 0.9440643718654493\n",
            "Val loss en epoch 371 = 1377.404432296753 | AUC = 0.9428485874898016\n",
            "Val loss en epoch 372 = 1354.282392501831 | AUC = 0.9459864719552807\n",
            "Val loss en epoch 373 = 1356.7677097320557 | AUC = 0.945707794718983\n",
            "Val loss en epoch 374 = 1289.7832012176514 | AUC = 0.9406540231961293\n",
            "Val loss en epoch 375 = 1410.6885986328125 | AUC = 0.9417534268662434\n",
            "Val loss en epoch 376 = 1358.695728302002 | AUC = 0.9475362447098302\n",
            "Val loss en epoch 377 = 1268.5362606048584 | AUC = 0.9483563649941386\n",
            "Val loss en epoch 378 = 1367.3574867248535 | AUC = 0.948171944006333\n",
            "Val loss en epoch 379 = 1363.935305595398 | AUC = 0.946347130912534\n",
            "Val loss en epoch 380 = 1349.0388851165771 | AUC = 0.9412915409411562\n",
            "Val loss en epoch 381 = 1390.1605472564697 | AUC = 0.9469749502654329\n",
            "Val loss en epoch 382 = 1322.5474395751953 | AUC = 0.948168004034531\n",
            "Val loss en epoch 383 = 1345.9474449157715 | AUC = 0.9451090705424675\n",
            "Val loss en epoch 384 = 1392.997205734253 | AUC = 0.9494969868307958\n",
            "Val loss en epoch 385 = 1364.5392627716064 | AUC = 0.9479313026516617\n",
            "Val loss en epoch 386 = 1300.7913360595703 | AUC = 0.9483249967571001\n",
            "Val loss en epoch 387 = 1299.586368560791 | AUC = 0.947335306147932\n",
            "Val loss en epoch 388 = 1362.5092964172363 | AUC = 0.9425526349925263\n",
            "Val loss en epoch 389 = 1373.972324371338 | AUC = 0.948962211427373\n",
            "Val loss en epoch 390 = 1336.6940460205078 | AUC = 0.9487341476749923\n",
            "Val loss en epoch 391 = 1257.9863204956055 | AUC = 0.9483531827092216\n",
            "Val loss en epoch 392 = 1337.2846775054932 | AUC = 0.9490373739663635\n",
            "Val loss en epoch 393 = 1287.5506706237793 | AUC = 0.947496087304926\n",
            "Val loss en epoch 394 = 1265.590124130249 | AUC = 0.9496748917113904\n",
            "Val loss en epoch 395 = 1339.198429107666 | AUC = 0.9461577091912875\n",
            "Val loss en epoch 396 = 1293.031967163086 | AUC = 0.9485241168704743\n",
            "Val loss en epoch 397 = 1264.0211181640625 | AUC = 0.9492075504407311\n",
            "Val loss en epoch 398 = 1318.2002811431885 | AUC = 0.9460964880909807\n",
            "Val loss en epoch 399 = 1218.4433116912842 | AUC = 0.9517486807155958\n",
            "Val loss en epoch 400 = 1266.9418277740479 | AUC = 0.9470678426775322\n",
            "Val loss en epoch 401 = 1332.719575881958 | AUC = 0.949795970075611\n",
            "Val loss en epoch 402 = 1329.9244537353516 | AUC = 0.9476924797455141\n",
            "Val loss en epoch 403 = 1351.8142232894897 | AUC = 0.9484942640072059\n",
            "Val loss en epoch 404 = 1245.3313465118408 | AUC = 0.9519705314355196\n",
            "Val loss en epoch 405 = 1368.3721599578857 | AUC = 0.9473154547515454\n",
            "Val loss en epoch 406 = 1243.0895586013794 | AUC = 0.950637608667453\n",
            "Val loss en epoch 407 = 1252.857322692871 | AUC = 0.9527561011978726\n",
            "Val loss en epoch 408 = 1253.3802528381348 | AUC = 0.9482561987879434\n",
            "Val loss en epoch 409 = 1322.276954650879 | AUC = 0.9463000027882877\n",
            "Val loss en epoch 410 = 1333.0913887023926 | AUC = 0.9492688473097265\n",
            "Val loss en epoch 411 = 1258.0121459960938 | AUC = 0.9506279102753252\n",
            "Val loss en epoch 412 = 1264.9931373596191 | AUC = 0.9496594348989367\n",
            "Val loss en epoch 413 = 1274.915126800537 | AUC = 0.9503818135750819\n",
            "Val loss en epoch 414 = 1264.961597442627 | AUC = 0.9520626661607339\n",
            "Val loss en epoch 415 = 1344.629870414734 | AUC = 0.9493683315977253\n",
            "Val loss en epoch 416 = 1228.2599086761475 | AUC = 0.9512828548187068\n",
            "Val loss en epoch 417 = 1277.699327468872 | AUC = 0.948127846629627\n",
            "Val loss en epoch 418 = 1388.502109527588 | AUC = 0.9483213598600522\n",
            "Val loss en epoch 419 = 1300.8024349212646 | AUC = 0.9470096523247652\n",
            "Val loss en epoch 420 = 1196.4556846618652 | AUC = 0.9529309753309273\n",
            "Val loss en epoch 421 = 1237.5952548980713 | AUC = 0.9520115980646859\n",
            "Val loss en epoch 422 = 1264.724868774414 | AUC = 0.950058735887324\n",
            "Val loss en epoch 423 = 1221.684021949768 | AUC = 0.9515015232537136\n",
            "Val loss en epoch 424 = 1198.393569946289 | AUC = 0.9536518386333028\n",
            "Val loss en epoch 425 = 1193.9656591415405 | AUC = 0.952844750563416\n",
            "Val loss en epoch 426 = 1200.2626085281372 | AUC = 0.9533746010020864\n",
            "Val loss en epoch 427 = 1222.230731010437 | AUC = 0.9527518581513167\n",
            "Val loss en epoch 428 = 1280.1510286331177 | AUC = 0.9488408299883982\n",
            "Val loss en epoch 429 = 1238.5371627807617 | AUC = 0.9527836810004862\n",
            "Val loss en epoch 430 = 1160.825662612915 | AUC = 0.9540743248403705\n",
            "Val loss en epoch 431 = 1161.8925189971924 | AUC = 0.9542757180143998\n",
            "Val loss en epoch 432 = 1260.396884918213 | AUC = 0.952848690535218\n",
            "Val loss en epoch 433 = 1292.6100158691406 | AUC = 0.9488814420054335\n",
            "Val loss en epoch 434 = 1235.6115398406982 | AUC = 0.9540350766597283\n",
            "Val loss en epoch 435 = 1257.4578580856323 | AUC = 0.9509787193030735\n",
            "Val loss en epoch 436 = 1198.9101972579956 | AUC = 0.9539079368004277\n",
            "Val loss en epoch 437 = 1183.3610000610352 | AUC = 0.95095871636931\n",
            "Val loss en epoch 438 = 1191.397717475891 | AUC = 0.9563913313346565\n",
            "Val loss en epoch 439 = 1227.5969161987305 | AUC = 0.9559774827580773\n",
            "Val loss en epoch 440 = 1211.6995010375977 | AUC = 0.9532898158396564\n",
            "Val loss en epoch 441 = 1202.6731567382812 | AUC = 0.9517324662162571\n",
            "Val loss en epoch 442 = 1280.1200885772705 | AUC = 0.9531397938364293\n",
            "Val loss en epoch 443 = 1208.348780632019 | AUC = 0.9522770915491847\n",
            "Val loss en epoch 444 = 1176.073766708374 | AUC = 0.952322098150153\n",
            "Val loss en epoch 445 = 1381.6170806884766 | AUC = 0.9489409961945934\n",
            "Val loss en epoch 446 = 1299.0114517211914 | AUC = 0.9498743148995187\n",
            "Val loss en epoch 447 = 1209.3733196258545 | AUC = 0.9521310095177596\n",
            "Val loss en epoch 448 = 1151.7827987670898 | AUC = 0.9494768323596551\n",
            "Val loss en epoch 449 = 1282.2313747406006 | AUC = 0.9503060448865833\n",
            "Val loss en epoch 450 = 1345.2332401275635 | AUC = 0.9513824148753938\n",
            "Val loss en epoch 451 = 1156.9623279571533 | AUC = 0.9556794087375239\n",
            "Val loss en epoch 452 = 1234.5789136886597 | AUC = 0.9559606621092306\n",
            "Val loss en epoch 453 = 1128.6055335998535 | AUC = 0.9569880855252709\n",
            "Val loss en epoch 454 = 1260.775122642517 | AUC = 0.9521676815629927\n",
            "Val loss en epoch 455 = 1162.5927467346191 | AUC = 0.9555599972844503\n",
            "Val loss en epoch 456 = 1129.6923580169678 | AUC = 0.9554516480598974\n",
            "Val loss en epoch 457 = 1155.4704856872559 | AUC = 0.9560011225888888\n",
            "Val loss en epoch 458 = 1175.2427616119385 | AUC = 0.9567142574850372\n",
            "Val loss en epoch 459 = 1133.8484592437744 | AUC = 0.957356472888751\n",
            "Val loss en epoch 460 = 1173.2388343811035 | AUC = 0.9561885743242341\n",
            "Val loss en epoch 461 = 1213.4431238174438 | AUC = 0.9577728976007391\n",
            "Val loss en epoch 462 = 1208.6612129211426 | AUC = 0.9525895616205529\n",
            "Val loss en epoch 463 = 1129.0077533721924 | AUC = 0.9568665525489194\n",
            "Val loss en epoch 464 = 1231.2084045410156 | AUC = 0.9578032050761385\n",
            "Val loss en epoch 465 = 1152.3347787857056 | AUC = 0.956403454324816\n",
            "Val loss en epoch 466 = 1176.5949993133545 | AUC = 0.9551637270436028\n",
            "Val loss en epoch 467 = 1191.0459642410278 | AUC = 0.9563082888520619\n",
            "Val loss en epoch 468 = 1244.8500785827637 | AUC = 0.9529277930460105\n",
            "Val loss en epoch 469 = 1181.8926572799683 | AUC = 0.9566005286836008\n",
            "Val loss en epoch 470 = 1263.1257467269897 | AUC = 0.9533184564039089\n",
            "Val loss en epoch 471 = 1291.8881454467773 | AUC = 0.9518336931840913\n",
            "Val loss en epoch 472 = 1138.501036643982 | AUC = 0.9544445306523746\n",
            "Val loss en epoch 473 = 1166.6518650054932 | AUC = 0.9539866604677778\n",
            "Val loss en epoch 474 = 1182.1095275878906 | AUC = 0.9503889358318008\n",
            "Val loss en epoch 475 = 1153.8654098510742 | AUC = 0.9582058398868198\n",
            "Val loss en epoch 476 = 1126.0343313217163 | AUC = 0.9572238776838785\n",
            "Val loss en epoch 477 = 1155.4423112869263 | AUC = 0.9572126639179807\n",
            "Val loss en epoch 478 = 1127.732850074768 | AUC = 0.9569802055816671\n",
            "Val loss en epoch 479 = 1172.0149431228638 | AUC = 0.9562638884006016\n",
            "Val loss en epoch 480 = 1185.3810873031616 | AUC = 0.9518893074014492\n",
            "Val loss en epoch 481 = 1154.4333057403564 | AUC = 0.9572084208714249\n",
            "Val loss en epoch 482 = 1137.7161779403687 | AUC = 0.9585380098171975\n",
            "Val loss en epoch 483 = 1154.276351928711 | AUC = 0.9531422184344612\n",
            "Val loss en epoch 484 = 1134.7064666748047 | AUC = 0.9576399993211124\n",
            "Val loss en epoch 485 = 1068.1316242218018 | AUC = 0.9597353066328517\n",
            "Val loss en epoch 486 = 1068.9864959716797 | AUC = 0.9603620652241116\n",
            "Val loss en epoch 487 = 1135.9366483688354 | AUC = 0.9586821218627217\n",
            "Val loss en epoch 488 = 1120.2574729919434 | AUC = 0.9600976325012517\n",
            "Val loss en epoch 489 = 1138.0159740447998 | AUC = 0.9561335662563842\n",
            "Val loss en epoch 490 = 1171.5270643234253 | AUC = 0.9543922502573103\n",
            "Val loss en epoch 491 = 1096.8829164505005 | AUC = 0.9597563703282542\n",
            "Val loss en epoch 492 = 1097.1972694396973 | AUC = 0.9611549087805606\n",
            "Val loss en epoch 493 = 1102.020025253296 | AUC = 0.9595277004263655\n",
            "Val loss en epoch 494 = 1086.502604484558 | AUC = 0.9592508416385919\n",
            "Val loss en epoch 495 = 1143.1867399215698 | AUC = 0.956882312436127\n",
            "Val loss en epoch 496 = 1110.073260307312 | AUC = 0.9578088119590873\n",
            "Val loss en epoch 497 = 1108.8279294967651 | AUC = 0.9581685616920786\n",
            "Val loss en epoch 498 = 1098.1137866973877 | AUC = 0.9585180068834339\n",
            "Val loss en epoch 499 = 1083.2479572296143 | AUC = 0.9584714849086958\n"
          ]
        }
      ]
    },
    {
      "cell_type": "code",
      "source": [
        "fig, ax1 = plt.subplots(1, figsize=(14, 10))\n",
        "x = range(0, len(auc_val_list))\n",
        "ax1.plot(x, auc_val_list, color=\"r\")\n",
        "ax1.plot(x, auc_train_list, color=\"b\")"
      ],
      "metadata": {
        "colab": {
          "base_uri": "https://localhost:8080/",
          "height": 610
        },
        "id": "q9TPVty3CpvH",
        "outputId": "c41366ba-041c-407f-a997-c03cf51df816"
      },
      "execution_count": 112,
      "outputs": [
        {
          "output_type": "execute_result",
          "data": {
            "text/plain": [
              "[<matplotlib.lines.Line2D at 0x7f05fbde4110>]"
            ]
          },
          "metadata": {},
          "execution_count": 112
        },
        {
          "output_type": "display_data",
          "data": {
            "text/plain": [
              "<Figure size 1008x720 with 1 Axes>"
            ],
            "image/png": "[encoded data removed]"
          },
          "metadata": {
            "needs_background": "light"
          }
        }
      ]
    },
    {
      "cell_type": "markdown",
      "source": [
        "### MODELO CON EMBEDDINGS"
      ],
      "metadata": {
        "id": "h1IS3kcaJM4Y"
      }
    },
    {
      "cell_type": "code",
      "source": [
        ""
      ],
      "metadata": {
        "id": "f-WV3lBIEDXw"
      },
      "execution_count": null,
      "outputs": []
    }
  ]
}