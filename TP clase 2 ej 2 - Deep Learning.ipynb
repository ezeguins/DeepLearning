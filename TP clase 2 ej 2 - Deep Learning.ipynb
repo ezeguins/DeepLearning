{
 "cells": [
  {
   "cell_type": "markdown",
   "id": "26f9f3c7",
   "metadata": {},
   "source": [
    "### Utilizando SGD, armar un modelo que calcule los pesos w1, w2, y w3 para aproximar la función:\n",
    "### Y= w1*X2 + w2*X + w3"
   ]
  },
  {
   "cell_type": "code",
   "execution_count": 29,
   "id": "03f9095f",
   "metadata": {},
   "outputs": [],
   "source": [
    "# Importamos las librerías\n",
    "import numpy as np\n",
    "import matplotlib.pyplot as plt"
   ]
  },
  {
   "cell_type": "code",
   "execution_count": 64,
   "id": "b6cff48b",
   "metadata": {},
   "outputs": [
    {
     "name": "stdout",
     "output_type": "stream",
     "text": [
      "parametros objetivo: w1: -1, w2: 4, w3: -1\n"
     ]
    }
   ],
   "source": [
    "# Definimos los valores de  X-Y:\n",
    "n = 10000\n",
    "x = np.random.uniform(0,4,n)\n",
    "y = -(x-2)**2 + 3 + .2*np.sin(16*x)\n",
    "print('parametros objetivo: w1: {}, w2: {}, w3: {}'. format(-1,4,-1))"
   ]
  },
  {
   "cell_type": "code",
   "execution_count": 65,
   "id": "2bad8481",
   "metadata": {},
   "outputs": [],
   "source": [
    "# Definimos la matriz X-Y:\n",
    "# n = 20\n",
    "# x = np.arange(n)\n",
    "# y = 3*np.power(x,2) + 5*x + 15 + np.random.uniform(0,100,n)"
   ]
  },
  {
   "cell_type": "code",
   "execution_count": 66,
   "id": "dc5cba4c",
   "metadata": {},
   "outputs": [
    {
     "data": {
      "text/plain": [
       "<matplotlib.collections.PathCollection at 0x1834c880d60>"
      ]
     },
     "execution_count": 66,
     "metadata": {},
     "output_type": "execute_result"
    },
    {
     "data": {
      "image/png": "[encoded data removed]",
      "text/plain": [
       "<Figure size 432x288 with 1 Axes>"
      ]
     },
     "metadata": {
      "needs_background": "light"
     },
     "output_type": "display_data"
    }
   ],
   "source": [
    "plt.scatter(x,y)"
   ]
  },
  {
   "cell_type": "code",
   "execution_count": 102,
   "id": "fae6b9ce",
   "metadata": {},
   "outputs": [
    {
     "name": "stdout",
     "output_type": "stream",
     "text": [
      "parametros iniciales: \n",
      " w1= 0.4919154032918018 \n",
      " w2= 0.7042271454095106 \n",
      " w3= 0\n"
     ]
    }
   ],
   "source": [
    "# Inicializamos los pesos y definimos los hiperparámetros del modelo\n",
    "w3 = 0\n",
    "np.random.seed(seed=1)\n",
    "\n",
    "w1, w2 = np.random.uniform(0.2,0.9,2)\n",
    "#w1 = w3 = -1\n",
    "#w2 = 4\n",
    "#epochs = 50000\n",
    "#lr = 0.000001\n",
    "epochs = 620\n",
    "lr = 0.001\n",
    "minibatch_size = 100\n",
    "print('parametros iniciales: \\n w1= {} \\n w2= {} \\n w3= {}'.format(w1,w2,w3))"
   ]
  },
  {
   "cell_type": "code",
   "execution_count": 103,
   "id": "3e871808",
   "metadata": {},
   "outputs": [
    {
     "name": "stdout",
     "output_type": "stream",
     "text": [
      "parametros: \n",
      " w1= -0.9688246746812703 \n",
      " w2= 3.858136155223996 \n",
      " w3= -0.8748199791702739\n"
     ]
    }
   ],
   "source": [
    "le = []\n",
    "# l = (y - y_hat)2 / 2\n",
    "# Implementamos las funciones de forward y backpropagation \n",
    "for epoch in range(epochs):\n",
    "    l = 0\n",
    "    #for i in range(len(x)):\n",
    "    for i in range(0, x.shape[0], minibatch_size):\n",
    "        x_mini = x[i:i + minibatch_size]\n",
    "        y_mini = y[i:i + minibatch_size]\n",
    "        m = x_mini.shape[0]\n",
    " \n",
    "        #Forward propagation\n",
    "        y_hat = w1*np.power(x_mini,2) + w2*x_mini + w3\n",
    "        error = y_mini - y_hat\n",
    "        mse = np.square(np.subtract(y_mini,y_hat)).mean()\n",
    "        l = l+mse \n",
    "        #Back propagation\n",
    "        dl_dw3 = -(1/m)*np.sum(error)\n",
    "        dl_dw2=  -(1/m)*np.dot(x_mini.T, error)\n",
    "        dl_dw1 = -(1/m)*np.dot((x_mini*x_mini).T, error)\n",
    "                \n",
    "        # Actualizamos los parámetros\n",
    "        w1 = w1 - lr*dl_dw1\n",
    "        w2 = w2 - lr*dl_dw2\n",
    "        w3 = w3 - lr*dl_dw3\n",
    "\n",
    "        \n",
    "    L = l / (n/minibatch_size)\n",
    "\n",
    "    le = np.append(le,L)\n",
    "\n",
    "print('parametros: \\n w1= {} \\n w2= {} \\n w3= {}'.format(w1,w2,w3))\n"
   ]
  },
  {
   "cell_type": "code",
   "execution_count": 104,
   "id": "fe1439b4",
   "metadata": {},
   "outputs": [
    {
     "data": {
      "text/plain": [
       "[<matplotlib.lines.Line2D at 0x1834b58d670>]"
      ]
     },
     "execution_count": 104,
     "metadata": {},
     "output_type": "execute_result"
    },
    {
     "data": {
      "image/png": "[encoded data removed]",
      "text/plain": [
       "<Figure size 432x288 with 1 Axes>"
      ]
     },
     "metadata": {
      "needs_background": "light"
     },
     "output_type": "display_data"
    }
   ],
   "source": [
    "plt.plot(range(10,epochs), le[10:epochs])"
   ]
  },
  {
   "cell_type": "code",
   "execution_count": 105,
   "id": "a5c38c77",
   "metadata": {},
   "outputs": [
    {
     "name": "stderr",
     "output_type": "stream",
     "text": [
      "No artists with labels found to put in legend.  Note that artists whose label start with an underscore are ignored when legend() is called with no argument.\n"
     ]
    },
    {
     "data": {
      "image/png": "[encoded data removed]",
      "text/plain": [
       "<Figure size 432x288 with 1 Axes>"
      ]
     },
     "metadata": {
      "needs_background": "light"
     },
     "output_type": "display_data"
    }
   ],
   "source": [
    "\n",
    "y_ = w1*np.power(x,2) + w2*x + w3 \n",
    "plt.scatter(x, y)\n",
    "plt.scatter(x, y_)\n",
    "plt.title('Model compare')\n",
    "\n",
    "plt.legend()\n",
    "plt.show()"
   ]
  },
  {
   "cell_type": "code",
   "execution_count": null,
   "id": "6f7359a9",
   "metadata": {},
   "outputs": [],
   "source": []
  },
  {
   "cell_type": "code",
   "execution_count": null,
   "id": "6a2522f8",
   "metadata": {},
   "outputs": [],
   "source": []
  }
 ],
 "metadata": {
  "kernelspec": {
   "display_name": "vision1",
   "language": "python",
   "name": "vision1"
  },
  "language_info": {
   "codemirror_mode": {
    "name": "ipython",
    "version": 3
   },
   "file_extension": ".py",
   "mimetype": "text/x-python",
   "name": "python",
   "nbconvert_exporter": "python",
   "pygments_lexer": "ipython3",
   "version": "3.9.7"
  }
 },
 "nbformat": 4,
 "nbformat_minor": 5
}
